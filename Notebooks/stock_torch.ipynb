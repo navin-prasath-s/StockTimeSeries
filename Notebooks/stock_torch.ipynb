{
 "cells": [
  {
   "cell_type": "code",
   "execution_count": 236,
   "id": "initial_id",
   "metadata": {
    "collapsed": true,
    "ExecuteTime": {
     "end_time": "2025-03-10T05:49:31.810909500Z",
     "start_time": "2025-03-10T05:49:31.808157500Z"
    }
   },
   "outputs": [],
   "source": [
    "import random\n",
    "import copy\n",
    "\n",
    "import pandas as pd\n",
    "import numpy as np\n",
    "\n",
    "import wandb\n",
    "\n",
    "from darts import TimeSeries\n",
    "from darts.metrics.metrics import mae, rmse, mape, smape\n",
    "from darts.models import BlockRNNModel\n",
    "\n",
    "from sklearn.preprocessing import StandardScaler, MinMaxScaler\n",
    "\n",
    "import torch\n",
    "import torch.nn as nn\n",
    "import torch.optim as optim \n",
    "from torch.utils.data import Dataset, DataLoader\n",
    "from torcheval.metrics.functional import binary_accuracy, binary_f1_score, binary_precision, binary_recall"
   ]
  },
  {
   "cell_type": "code",
   "execution_count": 237,
   "outputs": [],
   "source": [
    "def evaluate_regression_metrics(actual, pred):\n",
    "    actual = actual.squeeze()\n",
    "    actual = TimeSeries.from_series(pd.DataFrame(actual))\n",
    "    pred = TimeSeries.from_series(pd.DataFrame(pred).squeeze())\n",
    "    result = {}\n",
    "    result[\"MAE\"] = mae(actual, pred)\n",
    "    result[\"RMSE\"] = rmse(actual, pred)\n",
    "    result[\"MAPE\"] = mape(actual, pred)\n",
    "    result[\"SMAPE\"] = smape(actual, pred)\n",
    "    return result\n",
    "\n",
    "def evaluate_classification_metrics(actual, pred):\n",
    "    actual = actual.squeeze()\n",
    "    pred = pred.squeeze()\n",
    "    \n",
    "    result = {}\n",
    "    result[\"Accuracy\"] = binary_accuracy(actual, pred)\n",
    "    result[\"F1\"] = binary_f1_score(actual, pred)\n",
    "    result[\"Precision\"] = binary_precision(actual, pred)\n",
    "    result[\"Recall\"] = binary_recall(actual, pred)\n",
    "    return result"
   ],
   "metadata": {
    "collapsed": false,
    "ExecuteTime": {
     "end_time": "2025-03-10T05:49:32.355338900Z",
     "start_time": "2025-03-10T05:49:32.353325400Z"
    }
   },
   "id": "3afd59215c46b0c3"
  },
  {
   "cell_type": "code",
   "execution_count": 238,
   "outputs": [],
   "source": [
    "def binarize_values(X: torch.Tensor, values: torch.Tensor) -> torch.Tensor:\n",
    "    \"\"\"\n",
    "    Converts continuous predictions into binary classification labels.\n",
    "\n",
    "    Args:\n",
    "    - X (torch.Tensor): Tensor of past values (last observed values of sequences).\n",
    "    - values (torch.Tensor): Tensor of target or predicted values.\n",
    "\n",
    "    Returns:\n",
    "    - torch.Tensor: Binary tensor (1 if increase, 0 otherwise).\n",
    "    \"\"\"\n",
    "    return (values > X).int()\n"
   ],
   "metadata": {
    "collapsed": false,
    "ExecuteTime": {
     "end_time": "2025-03-10T05:49:32.384572900Z",
     "start_time": "2025-03-10T05:49:32.379427800Z"
    }
   },
   "id": "a404af01d34433a2"
  },
  {
   "cell_type": "code",
   "execution_count": 239,
   "outputs": [],
   "source": [
    "def evaluate_test(model, test_loader, device, loss_fn):\n",
    "    model.eval()\n",
    "    outputs_list = []\n",
    "    labels_list = []\n",
    "    past_values_list = []\n",
    "    test_loss = 0\n",
    "\n",
    "    with torch.no_grad():\n",
    "        inputs, labels = next(iter(test_loader))\n",
    "        inputs, labels = inputs.to(device), labels.to(device).float().squeeze()\n",
    "        outputs = model(inputs)\n",
    "        loss = loss_fn(outputs, labels)\n",
    "        test_loss += loss.item()\n",
    "        \n",
    "        outputs_list.append(outputs.cpu())\n",
    "        labels_list.append(labels.cpu())\n",
    "        past_values_list.append(inputs[:,0].cpu())\n",
    "\n",
    "    outputs_concat = torch.cat(outputs_list, dim=0)\n",
    "    labels_concat = torch.cat(labels_list, dim=0)\n",
    "    past_values_concat = torch.cat(past_values_list, dim=0)\n",
    "\n",
    "    regression_metrics = evaluate_regression_metrics(labels_concat, outputs_concat)\n",
    "    actual_direction = binarize_values(past_values_concat, labels_concat)\n",
    "    preds_direction = binarize_values(past_values_concat, outputs_concat)\n",
    "    classification_metrics = evaluate_classification_metrics(actual_direction, preds_direction)\n",
    "\n",
    "    print(f'Test Loss: {test_loss}')\n",
    "    print(f'Regression Metrics: {regression_metrics}')\n",
    "    print(f'Classification Metrics: {classification_metrics}')\n",
    "    \n",
    "    wandb.log({\n",
    "        'test_loss': test_loss,\n",
    "        **regression_metrics,\n",
    "        **classification_metrics\n",
    "    })\n",
    "    \n",
    "    return test_loss, regression_metrics, classification_metrics"
   ],
   "metadata": {
    "collapsed": false,
    "ExecuteTime": {
     "end_time": "2025-03-10T05:49:32.414185200Z",
     "start_time": "2025-03-10T05:49:32.409582200Z"
    }
   },
   "id": "8ad4004ac0fa7b6c"
  },
  {
   "cell_type": "code",
   "execution_count": 240,
   "outputs": [],
   "source": [
    "class TimeSeriesDataset(Dataset):\n",
    "    def __init__(self, data, n_past, n_predict, n_stride=1):\n",
    "        \"\"\"\n",
    "        Args:\n",
    "            data: Input time series data.\n",
    "            n_past: Number of past time steps as input.\n",
    "            n_predict: Number of future time steps to predict.\n",
    "            n_stride: Step size for moving window.\n",
    "        \"\"\"\n",
    "        self.data = data\n",
    "        self.n_past = n_past\n",
    "        self.n_predict = n_predict\n",
    "        self.n_stride = n_stride\n",
    "        self.samples = self._create_samples()\n",
    "    \n",
    "    def _create_samples(self):\n",
    "        samples = []\n",
    "        for i in range(0, len(self.data) - self.n_past - self.n_predict + 1, self.n_stride):\n",
    "            past = self.data[i : i + self.n_past]\n",
    "            future = self.data[i + self.n_past : i + self.n_past + self.n_predict]\n",
    "            samples.append((past, future))  # Directly use the future values as targets\n",
    "        return samples\n",
    "    \n",
    "    def __len__(self):\n",
    "        return len(self.samples)\n",
    "    \n",
    "    def __getitem__(self, idx):\n",
    "        past, target = self.samples[idx]\n",
    "        return (torch.tensor(past.squeeze(-1), dtype=torch.float32), \n",
    "                torch.tensor(target, dtype=torch.float32))  # Always return continuous values for regression\n"
   ],
   "metadata": {
    "collapsed": false,
    "ExecuteTime": {
     "end_time": "2025-03-10T05:49:32.450202200Z",
     "start_time": "2025-03-10T05:49:32.444559200Z"
    }
   },
   "id": "19e71f8494ae3788"
  },
  {
   "cell_type": "code",
   "execution_count": 241,
   "outputs": [],
   "source": [
    "class Trainer:\n",
    "    def __init__(self, model, device, optimizer, loss_fn, train_loader, val_loader, n_epochs,\n",
    "                 run_name, patience=50):\n",
    "        self.device = device\n",
    "        self.model = model.to(self.device)\n",
    "        self.optimizer = optimizer\n",
    "        self.loss_fn = loss_fn\n",
    "        self.train_loader = train_loader\n",
    "        self.val_loader = val_loader\n",
    "        self.n_epochs = n_epochs\n",
    "        self.patience = patience\n",
    "        self.best_val_loss = float('inf')\n",
    "        self.patience_counter = 0\n",
    "        self.best_model_state = None\n",
    "        self.early_stopped = False\n",
    "        self.run_name = run_name\n",
    "        \n",
    "        \n",
    "    def train(self):\n",
    "        for epoch in range(self.n_epochs):\n",
    "            train_loss = self._train_epoch(epoch)\n",
    "            val_loss, regression_metrics, classification_metrics= self._val_epoch(epoch)\n",
    "            wandb.log({\"train_loss\": train_loss, \"val_loss\": val_loss})\n",
    "            wandb.log({\n",
    "            **regression_metrics,\n",
    "            **(classification_metrics if classification_metrics else {})\n",
    "        })\n",
    "            self._early_stopping(val_loss)\n",
    "            if self.early_stopped:\n",
    "                print(f\"Early stopping triggered at epoch {epoch+1}\")\n",
    "                break\n",
    "            \n",
    "        print(\"Training complete, saving best and final model.\")\n",
    "        self._save_best_model()\n",
    "        self._save_final_model()\n",
    "        \n",
    "        best_model = copy.deepcopy(self.model)  \n",
    "        best_model.load_state_dict(self.best_model_state)\n",
    "        return best_model \n",
    "            \n",
    "    def _train_epoch(self, epoch):\n",
    "        self.model.train()\n",
    "        train_loss = 0\n",
    "        for batch in self.train_loader:\n",
    "            inputs, labels = batch\n",
    "            inputs, labels = inputs.to(self.device), labels.to(self.device)\n",
    "            self.optimizer.zero_grad()\n",
    "            outputs = self.model(inputs)\n",
    "            loss = self.loss_fn(outputs, labels.float().squeeze())\n",
    "            loss.backward()\n",
    "            self.optimizer.step()\n",
    "            train_loss += loss.item()\n",
    "        print(f'Epoch {epoch+1}, Train Loss: {train_loss / len(self.train_loader)}')\n",
    "        return train_loss / len(self.train_loader)\n",
    "    \n",
    "    def _val_epoch(self, epoch):\n",
    "        self.model.eval()\n",
    "        val_loss = 0\n",
    "        outputs_list = []\n",
    "        labels_list = []\n",
    "        past_values_list = []\n",
    "        \n",
    "        with torch.no_grad():\n",
    "            for batch in self.val_loader:\n",
    "                inputs, labels = batch\n",
    "                inputs, labels = inputs.to(self.device), labels.to(self.device).float().squeeze()\n",
    "                outputs = self.model(inputs)\n",
    "                loss = self.loss_fn(outputs, labels)\n",
    "                val_loss += loss.item()\n",
    "                outputs_list.append(outputs.cpu())\n",
    "                labels_list.append(labels.cpu())\n",
    "                past_values_list.append(inputs[:, -1].cpu()) \n",
    "                \n",
    "        outputs_concat = torch.cat(outputs_list, dim=0)\n",
    "        labels_concat = torch.cat(labels_list, dim=0)\n",
    "        past_values_concat = torch.cat(past_values_list, dim=0)\n",
    "        \n",
    "        \n",
    "        regression_metrics = evaluate_regression_metrics(labels_concat, outputs_concat)\n",
    "        actual_direction = binarize_values(past_values_concat, labels_concat)\n",
    "        preds_direction = binarize_values(past_values_concat, outputs_concat)\n",
    "        classification_metrics = evaluate_classification_metrics(actual_direction, preds_direction)\n",
    "        \n",
    "        print(f'Epoch {epoch+1}, Validation Loss: {val_loss / len(self.val_loader)}')\n",
    "        print(f\"regression_metrics\", regression_metrics)\n",
    "        print(f\"Classification Metrics: {classification_metrics}\")\n",
    "        return val_loss / len(self.val_loader), regression_metrics, classification_metrics\n",
    "    \n",
    "    def _early_stopping(self, val_loss):\n",
    "        if val_loss < self.best_val_loss:\n",
    "            self.best_val_loss = val_loss\n",
    "            self.patience_counter = 0\n",
    "            self.best_model_state = self.model.state_dict()\n",
    "        else:\n",
    "            self.patience_counter += 1\n",
    "            if self.patience_counter >= self.patience:\n",
    "                self.early_stopped = True\n",
    "                \n",
    "                \n",
    "    def _save_best_model(self):\n",
    "        if self.best_model_state is not None:\n",
    "            torch.save(self.best_model_state, f\"../artifacts/{self.run_name}_best_model.pth\")\n",
    "            artifact = wandb.Artifact(f\"{self.run_name}_best_model\", type=\"model\")\n",
    "            artifact.add_file(f\"../artifacts/{self.run_name}_best_model.pth\")\n",
    "            wandb.log_artifact(artifact)\n",
    "            print(\"Best model saved to WandB.\")\n",
    "\n",
    "    def _save_final_model(self):\n",
    "        torch.save(self.model.state_dict(), f\"../artifacts/{self.run_name}_final_model.pth\")\n",
    "        artifact = wandb.Artifact(f\"{self.run_name}_final_model\", type=\"model\")\n",
    "        artifact.add_file(f\"../artifacts/{self.run_name}_final_model.pth\")\n",
    "        wandb.log_artifact(artifact)\n",
    "        print(\"Final model saved to WandB.\")"
   ],
   "metadata": {
    "collapsed": false,
    "ExecuteTime": {
     "end_time": "2025-03-10T05:49:32.484021400Z",
     "start_time": "2025-03-10T05:49:32.478901900Z"
    }
   },
   "id": "b64ea4198faf2fc7"
  },
  {
   "cell_type": "code",
   "execution_count": 242,
   "outputs": [],
   "source": [
    "class LinearLayer(nn.Module):\n",
    "    def __init__(self, n_past, n_predict):\n",
    "        super().__init__()\n",
    "        self.fc = nn.Linear(n_past, n_predict)\n",
    "\n",
    "    def forward(self, x):\n",
    "        return self.fc(x)"
   ],
   "metadata": {
    "collapsed": false,
    "ExecuteTime": {
     "end_time": "2025-03-10T05:49:32.523175400Z",
     "start_time": "2025-03-10T05:49:32.514253400Z"
    }
   },
   "id": "a70fcfaa0c56422"
  },
  {
   "cell_type": "code",
   "execution_count": 243,
   "outputs": [],
   "source": [
    "class RNNEncoder(nn.Module):\n",
    "    def __init__(self, n_predict, n_features, n_hidden, n_layers, dropout):\n",
    "        super().__init__()\n",
    "        self.rnn = nn.RNN(input_size = n_features,\n",
    "                          hidden_size = n_hidden,\n",
    "                          num_layers = n_layers,\n",
    "                          nonlinearity = \"relu\",\n",
    "                          dropout = dropout,\n",
    "                          bidirectional = False,\n",
    "                          batch_first=True)\n",
    "        self.fc = nn.Linear(n_hidden, n_predict)\n",
    "        \n",
    "    def forward(self, x):\n",
    "        x = x.unsqueeze(-1) \n",
    "        output, hn = self.rnn(x)\n",
    "        x = self.fc(hn[-1])\n",
    "        return x.squeeze() "
   ],
   "metadata": {
    "collapsed": false,
    "ExecuteTime": {
     "end_time": "2025-03-10T05:49:32.540340400Z",
     "start_time": "2025-03-10T05:49:32.536805800Z"
    }
   },
   "id": "6c297a38e738c2bc"
  },
  {
   "cell_type": "code",
   "execution_count": 244,
   "outputs": [],
   "source": [
    "def get_model_class(model_name):\n",
    "    model_dict = {\n",
    "        \"linear\": LinearLayer,\n",
    "        \"rnn_encoder_regression\": RNNEncoder\n",
    "    }\n",
    "    \n",
    "    if model_name not in model_dict:\n",
    "        raise ValueError(f\"Unknown model: {model_name}\")\n",
    "    \n",
    "    return model_dict[model_name] "
   ],
   "metadata": {
    "collapsed": false,
    "ExecuteTime": {
     "end_time": "2025-03-10T05:49:32.576992400Z",
     "start_time": "2025-03-10T05:49:32.570328200Z"
    }
   },
   "id": "f7fb896acc1b85c6"
  },
  {
   "cell_type": "code",
   "execution_count": 245,
   "outputs": [],
   "source": [
    "def main(config):\n",
    "    wandb.init(dir=\"../wandb\", project=\"stock_time_series\", name=config[\"run_name\"], config=config, notes=config[\"notes\"])\n",
    "    device = torch.device('cuda' if torch.cuda.is_available() else 'cpu')\n",
    "    print(f\"using {device}\")\n",
    "\n",
    "    \n",
    "    \n",
    "    df_train = pd.read_csv(\"../data/train.csv\", parse_dates=[\"timestamp\"])[\"low\"]\n",
    "    df_val = pd.read_csv(\"../data/validate.csv\", parse_dates=[\"timestamp\"])[\"low\"]\n",
    "    df_test = pd.read_csv(\"../data/test.csv\", parse_dates=[\"timestamp\"])[\"low\"]\n",
    "    \n",
    "    scaler_transformer = None\n",
    "    if config[\"scaler\"] == \"min-max\":\n",
    "        scaler_transformer = MinMaxScaler()\n",
    "    elif config[\"scaler\"] == \"std\":\n",
    "        scaler_transformer = StandardScaler()\n",
    "        \n",
    "    train_series = scaler_transformer.fit_transform(df_train.to_frame())\n",
    "    val_series = scaler_transformer.transform(df_val.to_frame())\n",
    "    test_series = scaler_transformer.transform(df_test.to_frame())\n",
    "    \n",
    "    train_dataset  = TimeSeriesDataset(train_series, \n",
    "                                       n_past=config[\"n_past\"], \n",
    "                                       n_predict=config[\"n_predict\"], \n",
    "                                       n_stride=config[\"n_stride\"])\n",
    "    val_dataset  = TimeSeriesDataset(val_series, \n",
    "                                   n_past=config[\"n_past\"], \n",
    "                                   n_predict=config[\"n_predict\"], \n",
    "                                   n_stride=config[\"n_stride\"])\n",
    "    test_dataset  = TimeSeriesDataset(test_series, \n",
    "                                   n_past=config[\"n_past\"], \n",
    "                                   n_predict=config[\"n_predict\"], \n",
    "                                   n_stride=config[\"n_stride\"])\n",
    "    \n",
    "    \n",
    "    train_dataloader = DataLoader(train_dataset, batch_size=config[\"batch_size\"], shuffle=False)\n",
    "    val_dataloader = DataLoader(val_dataset, batch_size=config[\"batch_size\"], shuffle=False)\n",
    "    test_dataloader = DataLoader(test_dataset, batch_size=len(test_dataset), shuffle=False)\n",
    "\n",
    "\n",
    "    model_class = get_model_class(config[\"model\"])\n",
    "    model = model_class(n_features = config[\"n_features\"], \n",
    "                        n_predict = config[\"n_predict\"],\n",
    "                        n_hidden = config[\"n_hidden\"], \n",
    "                        n_layers = config[\"n_layers\"], \n",
    "                        dropout = config[\"dropout\"])\n",
    "\n",
    "\n",
    "\n",
    "    loss_fn = nn.MSELoss()\n",
    "        \n",
    "    optimizer = optim.Adam(model.parameters())\n",
    "\n",
    "    trainer = Trainer(model = model, \n",
    "                      device = device, \n",
    "                      optimizer = optimizer,\n",
    "                      loss_fn = loss_fn,\n",
    "                      train_loader = train_dataloader,\n",
    "                      val_loader = val_dataloader,\n",
    "                      n_epochs = config[\"n_epochs\"],\n",
    "                      run_name = config[\"run_name\"],\n",
    "                      patience = config[\"patience\"])\n",
    "    trainer.train()\n",
    "\n",
    "    evaluate_test(model, test_dataloader, device, loss_fn)\n",
    "    wandb.finish()\n",
    "    "
   ],
   "metadata": {
    "collapsed": false,
    "ExecuteTime": {
     "end_time": "2025-03-10T05:49:32.612092700Z",
     "start_time": "2025-03-10T05:49:32.605628300Z"
    }
   },
   "id": "50738fc8b13787f3"
  },
  {
   "cell_type": "code",
   "execution_count": 246,
   "outputs": [],
   "source": [
    "def get_config():\n",
    "    return {\n",
    "        \"run_name\" : \"rnn_encoder\",\n",
    "        \"notes\" : \"Real Run\",  \n",
    "\n",
    "        \"n_features\" : 1,\n",
    "        \"n_past\" :24,\n",
    "        \"n_predict\" : 1,\n",
    "        \"n_stride\" : 1,\n",
    "        \n",
    "        \"model\" : \"rnn_encoder_regression\",\n",
    "        \"n_hidden\" : 64,\n",
    "        \"n_layers\" : 5,\n",
    "        \"dropout\" : 0,\n",
    "        \n",
    "        \"n_epochs\" : 200,\n",
    "        \"batch_size\" : 64,\n",
    "        \"patience\" :  50,\n",
    "        \"scaler\" : \"min-max\",\n",
    "\n",
    "    }"
   ],
   "metadata": {
    "collapsed": false,
    "ExecuteTime": {
     "end_time": "2025-03-10T05:49:32.640446900Z",
     "start_time": "2025-03-10T05:49:32.635767400Z"
    }
   },
   "id": "adcb1e2cfebbffe0"
  },
  {
   "cell_type": "code",
   "execution_count": 247,
   "outputs": [
    {
     "data": {
      "text/plain": "<IPython.core.display.HTML object>",
      "text/html": "Tracking run with wandb version 0.19.8"
     },
     "metadata": {},
     "output_type": "display_data"
    },
    {
     "data": {
      "text/plain": "<IPython.core.display.HTML object>",
      "text/html": "Run data is saved locally in <code>../wandb\\wandb\\run-20250310_014932-7m69k9ml</code>"
     },
     "metadata": {},
     "output_type": "display_data"
    },
    {
     "data": {
      "text/plain": "<IPython.core.display.HTML object>",
      "text/html": "Syncing run <strong><a href='https://wandb.ai/aafvbd/stock_time_series/runs/7m69k9ml' target=\"_blank\">rnn_encoder</a></strong> to <a href='https://wandb.ai/aafvbd/stock_time_series' target=\"_blank\">Weights & Biases</a> (<a href='https://wandb.me/developer-guide' target=\"_blank\">docs</a>)<br>"
     },
     "metadata": {},
     "output_type": "display_data"
    },
    {
     "data": {
      "text/plain": "<IPython.core.display.HTML object>",
      "text/html": " View project at <a href='https://wandb.ai/aafvbd/stock_time_series' target=\"_blank\">https://wandb.ai/aafvbd/stock_time_series</a>"
     },
     "metadata": {},
     "output_type": "display_data"
    },
    {
     "data": {
      "text/plain": "<IPython.core.display.HTML object>",
      "text/html": " View run at <a href='https://wandb.ai/aafvbd/stock_time_series/runs/7m69k9ml' target=\"_blank\">https://wandb.ai/aafvbd/stock_time_series/runs/7m69k9ml</a>"
     },
     "metadata": {},
     "output_type": "display_data"
    },
    {
     "name": "stdout",
     "output_type": "stream",
     "text": [
      "using cuda\n",
      "Epoch 1, Train Loss: 0.00690652460192273\n",
      "Epoch 1, Validation Loss: 0.14669836959688598\n",
      "regression_metrics {'MAE': 0.30685827, 'RMSE': 0.3819966, 'MAPE': 25.440838, 'SMAPE': 31.173304}\n",
      "Classification Metrics: {'Accuracy': tensor(0.4911), 'F1': tensor(0.0617), 'Precision': tensor(0.0327), 'Recall': tensor(0.5394)}\n",
      "Epoch 2, Train Loss: 0.012944348837717624\n",
      "Epoch 2, Validation Loss: 0.16104181857455663\n",
      "regression_metrics {'MAE': 0.3288999, 'RMSE': 0.40026838, 'MAPE': 27.609226, 'SMAPE': 34.030952}\n",
      "Classification Metrics: {'Accuracy': tensor(0.4887), 'F1': tensor(0.0030), 'Precision': tensor(0.0015), 'Recall': tensor(0.5000)}\n",
      "Epoch 3, Train Loss: 0.01504616233494547\n"
     ]
    },
    {
     "name": "stderr",
     "output_type": "stream",
     "text": [
      "WARNING:root:Warning: Some classes do not exist in the target. F1 scores for these classes will be cast to zeros.\n",
      "WARNING:root:No positive instances have been seen in target. Recall is converted from NaN to 0s.\n"
     ]
    },
    {
     "name": "stdout",
     "output_type": "stream",
     "text": [
      "Epoch 3, Validation Loss: 0.17499017725139474\n",
      "regression_metrics {'MAE': 0.3493277, 'RMSE': 0.41727337, 'MAPE': 29.632126, 'SMAPE': 36.746365}\n",
      "Classification Metrics: {'Accuracy': tensor(0.4887), 'F1': tensor(0.), 'Precision': tensor(0.), 'Recall': tensor(0.)}\n",
      "Epoch 4, Train Loss: 0.01379345882625466\n",
      "Epoch 4, Validation Loss: 0.1543613288895209\n",
      "regression_metrics {'MAE': 0.31837162, 'RMSE': 0.39186203, 'MAPE': 26.558699, 'SMAPE': 32.65418}\n",
      "Classification Metrics: {'Accuracy': tensor(0.4888), 'F1': tensor(0.0134), 'Precision': tensor(0.0068), 'Recall': tensor(0.5094)}\n",
      "Epoch 5, Train Loss: 0.01373676607432248\n",
      "Epoch 5, Validation Loss: 0.15142935108994354\n",
      "regression_metrics {'MAE': 0.31427455, 'RMSE': 0.3881186, 'MAPE': 26.16858, 'SMAPE': 32.126724}\n",
      "Classification Metrics: {'Accuracy': tensor(0.4905), 'F1': tensor(0.0284), 'Precision': tensor(0.0146), 'Recall': tensor(0.5686)}\n",
      "Epoch 6, Train Loss: 0.01502249025672905\n",
      "Epoch 6, Validation Loss: 0.15970918569488635\n",
      "regression_metrics {'MAE': 0.3268531, 'RMSE': 0.39860576, 'MAPE': 27.405664, 'SMAPE': 33.762165}\n",
      "Classification Metrics: {'Accuracy': tensor(0.4886), 'F1': tensor(0.0050), 'Precision': tensor(0.0025), 'Recall': tensor(0.4762)}\n",
      "Epoch 7, Train Loss: 0.015899178997666033\n",
      "Epoch 7, Validation Loss: 0.15414701440153533\n",
      "regression_metrics {'MAE': 0.3195359, 'RMSE': 0.39159596, 'MAPE': 26.71955, 'SMAPE': 32.81526}\n",
      "Classification Metrics: {'Accuracy': tensor(0.4882), 'F1': tensor(0.0060), 'Precision': tensor(0.0030), 'Recall': tensor(0.4286)}\n",
      "Epoch 8, Train Loss: 0.018141815929016283\n"
     ]
    },
    {
     "name": "stderr",
     "output_type": "stream",
     "text": [
      "WARNING:root:Warning: Some classes do not exist in the target. F1 scores for these classes will be cast to zeros.\n",
      "WARNING:root:No positive instances have been seen in target. Recall is converted from NaN to 0s.\n"
     ]
    },
    {
     "name": "stdout",
     "output_type": "stream",
     "text": [
      "Epoch 8, Validation Loss: 0.173084813523675\n",
      "regression_metrics {'MAE': 0.34791052, 'RMSE': 0.41499797, 'MAPE': 29.535149, 'SMAPE': 36.566727}\n",
      "Classification Metrics: {'Accuracy': tensor(0.4887), 'F1': tensor(0.), 'Precision': tensor(0.), 'Recall': tensor(0.)}\n",
      "Epoch 9, Train Loss: 0.016602919717837554\n",
      "Epoch 9, Validation Loss: 0.16123271021981472\n",
      "regression_metrics {'MAE': 0.33018488, 'RMSE': 0.4005099, 'MAPE': 27.768171, 'SMAPE': 34.207027}\n",
      "Classification Metrics: {'Accuracy': tensor(0.4888), 'F1': tensor(0.0005), 'Precision': tensor(0.0003), 'Recall': tensor(1.)}\n",
      "Epoch 10, Train Loss: 0.018541287367999346\n"
     ]
    },
    {
     "name": "stderr",
     "output_type": "stream",
     "text": [
      "WARNING:root:Warning: Some classes do not exist in the target. F1 scores for these classes will be cast to zeros.\n",
      "WARNING:root:No positive instances have been seen in target. Recall is converted from NaN to 0s.\n"
     ]
    },
    {
     "name": "stdout",
     "output_type": "stream",
     "text": [
      "Epoch 10, Validation Loss: 0.1704180899980768\n",
      "regression_metrics {'MAE': 0.3446668, 'RMSE': 0.4117859, 'MAPE': 29.233486, 'SMAPE': 36.13678}\n",
      "Classification Metrics: {'Accuracy': tensor(0.4887), 'F1': tensor(0.), 'Precision': tensor(0.), 'Recall': tensor(0.)}\n",
      "Epoch 11, Train Loss: 0.019526981883634865\n"
     ]
    },
    {
     "name": "stderr",
     "output_type": "stream",
     "text": [
      "WARNING:root:Warning: Some classes do not exist in the target. F1 scores for these classes will be cast to zeros.\n",
      "WARNING:root:No positive instances have been seen in target. Recall is converted from NaN to 0s.\n"
     ]
    },
    {
     "name": "stdout",
     "output_type": "stream",
     "text": [
      "Epoch 11, Validation Loss: 0.165943018425319\n",
      "regression_metrics {'MAE': 0.33668637, 'RMSE': 0.4063299, 'MAPE': 28.39419, 'SMAPE': 35.062153}\n",
      "Classification Metrics: {'Accuracy': tensor(0.4887), 'F1': tensor(0.), 'Precision': tensor(0.), 'Recall': tensor(0.)}\n",
      "Epoch 12, Train Loss: 0.022748175158875308\n",
      "Epoch 12, Validation Loss: 0.13996133323771723\n",
      "regression_metrics {'MAE': 0.29678366, 'RMSE': 0.37310827, 'MAPE': 24.478672, 'SMAPE': 29.895842}\n",
      "Classification Metrics: {'Accuracy': tensor(0.4915), 'F1': tensor(0.0997), 'Precision': tensor(0.0551), 'Recall': tensor(0.5264)}\n",
      "Epoch 13, Train Loss: 0.023912640959177636\n",
      "Epoch 13, Validation Loss: 0.15716716149418958\n",
      "regression_metrics {'MAE': 0.32295918, 'RMSE': 0.39541543, 'MAPE': 27.019886, 'SMAPE': 33.252846}\n",
      "Classification Metrics: {'Accuracy': tensor(0.4880), 'F1': tensor(0.0055), 'Precision': tensor(0.0028), 'Recall': tensor(0.4074)}\n",
      "Epoch 14, Train Loss: 0.022133960199949825\n"
     ]
    },
    {
     "name": "stderr",
     "output_type": "stream",
     "text": [
      "WARNING:root:Warning: Some classes do not exist in the target. F1 scores for these classes will be cast to zeros.\n",
      "WARNING:root:No positive instances have been seen in target. Recall is converted from NaN to 0s.\n"
     ]
    },
    {
     "name": "stdout",
     "output_type": "stream",
     "text": [
      "Epoch 14, Validation Loss: 0.16865643263187596\n",
      "regression_metrics {'MAE': 0.34020093, 'RMSE': 0.4096391, 'MAPE': 28.72809, 'SMAPE': 35.525303}\n",
      "Classification Metrics: {'Accuracy': tensor(0.4887), 'F1': tensor(0.), 'Precision': tensor(0.), 'Recall': tensor(0.)}\n",
      "Epoch 15, Train Loss: 0.019221838861331542\n"
     ]
    },
    {
     "name": "stderr",
     "output_type": "stream",
     "text": [
      "WARNING:root:Warning: Some classes do not exist in the target. F1 scores for these classes will be cast to zeros.\n",
      "WARNING:root:No positive instances have been seen in target. Recall is converted from NaN to 0s.\n"
     ]
    },
    {
     "name": "stdout",
     "output_type": "stream",
     "text": [
      "Epoch 15, Validation Loss: 0.16788826684646888\n",
      "regression_metrics {'MAE': 0.33908993, 'RMSE': 0.4087036, 'MAPE': 28.61843, 'SMAPE': 35.37764}\n",
      "Classification Metrics: {'Accuracy': tensor(0.4887), 'F1': tensor(0.), 'Precision': tensor(0.), 'Recall': tensor(0.)}\n",
      "Epoch 16, Train Loss: 0.017323537178733025\n"
     ]
    },
    {
     "name": "stderr",
     "output_type": "stream",
     "text": [
      "WARNING:root:Warning: Some classes do not exist in the target. F1 scores for these classes will be cast to zeros.\n",
      "WARNING:root:No positive instances have been seen in target. Recall is converted from NaN to 0s.\n"
     ]
    },
    {
     "name": "stdout",
     "output_type": "stream",
     "text": [
      "Epoch 16, Validation Loss: 0.16938365579007353\n",
      "regression_metrics {'MAE': 0.3412469, 'RMSE': 0.4105226, 'MAPE': 28.831264, 'SMAPE': 35.66448}\n",
      "Classification Metrics: {'Accuracy': tensor(0.4887), 'F1': tensor(0.), 'Precision': tensor(0.), 'Recall': tensor(0.)}\n",
      "Epoch 17, Train Loss: 0.017606750777083773\n",
      "Epoch 17, Validation Loss: 0.15121060372245562\n",
      "regression_metrics {'MAE': 0.31373024, 'RMSE': 0.3878366, 'MAPE': 26.108942, 'SMAPE': 32.05518}\n",
      "Classification Metrics: {'Accuracy': tensor(0.4901), 'F1': tensor(0.0308), 'Precision': tensor(0.0158), 'Recall': tensor(0.5478)}\n",
      "Epoch 18, Train Loss: 0.022545507475089516\n"
     ]
    },
    {
     "name": "stderr",
     "output_type": "stream",
     "text": [
      "WARNING:root:Warning: Some classes do not exist in the target. F1 scores for these classes will be cast to zeros.\n",
      "WARNING:root:No positive instances have been seen in target. Recall is converted from NaN to 0s.\n"
     ]
    },
    {
     "name": "stdout",
     "output_type": "stream",
     "text": [
      "Epoch 18, Validation Loss: 0.16436901761669298\n",
      "regression_metrics {'MAE': 0.33380604, 'RMSE': 0.40438882, 'MAPE': 28.09252, 'SMAPE': 34.676754}\n",
      "Classification Metrics: {'Accuracy': tensor(0.4887), 'F1': tensor(0.), 'Precision': tensor(0.), 'Recall': tensor(0.)}\n",
      "Epoch 19, Train Loss: 0.020246406405807105\n"
     ]
    },
    {
     "name": "stderr",
     "output_type": "stream",
     "text": [
      "WARNING:root:Warning: Some classes do not exist in the target. F1 scores for these classes will be cast to zeros.\n",
      "WARNING:root:No positive instances have been seen in target. Recall is converted from NaN to 0s.\n"
     ]
    },
    {
     "name": "stdout",
     "output_type": "stream",
     "text": [
      "Epoch 19, Validation Loss: 0.17696690600227993\n",
      "regression_metrics {'MAE': 0.35211277, 'RMSE': 0.41962752, 'MAPE': 29.9074, 'SMAPE': 37.121414}\n",
      "Classification Metrics: {'Accuracy': tensor(0.4887), 'F1': tensor(0.), 'Precision': tensor(0.), 'Recall': tensor(0.)}\n",
      "Epoch 20, Train Loss: 0.024228360581580007\n",
      "Epoch 20, Validation Loss: 0.1341451975685992\n",
      "regression_metrics {'MAE': 0.28798297, 'RMSE': 0.36526066, 'MAPE': 23.647135, 'SMAPE': 28.7936}\n",
      "Classification Metrics: {'Accuracy': tensor(0.4943), 'F1': tensor(0.1460), 'Precision': tensor(0.0845), 'Recall': tensor(0.5350)}\n",
      "Epoch 21, Train Loss: 0.03710364964704756\n",
      "Epoch 21, Validation Loss: 0.14914033212195046\n",
      "regression_metrics {'MAE': 0.31054437, 'RMSE': 0.385168, 'MAPE': 25.797443, 'SMAPE': 31.645157}\n",
      "Classification Metrics: {'Accuracy': tensor(0.4907), 'F1': tensor(0.0453), 'Precision': tensor(0.0236), 'Recall': tensor(0.5465)}\n",
      "Epoch 22, Train Loss: 0.04835670656253222\n",
      "Epoch 22, Validation Loss: 0.12813528453688988\n",
      "regression_metrics {'MAE': 0.2793693, 'RMSE': 0.3569725, 'MAPE': 22.860846, 'SMAPE': 27.730711}\n",
      "Classification Metrics: {'Accuracy': tensor(0.4951), 'F1': tensor(0.1948), 'Precision': tensor(0.1195), 'Recall': tensor(0.5278)}\n",
      "Epoch 23, Train Loss: 0.04365833300922888\n",
      "Epoch 23, Validation Loss: 0.12935480447825537\n",
      "regression_metrics {'MAE': 0.28108203, 'RMSE': 0.3586697, 'MAPE': 23.014912, 'SMAPE': 27.94079}\n",
      "Classification Metrics: {'Accuracy': tensor(0.4943), 'F1': tensor(0.1822), 'Precision': tensor(0.1102), 'Recall': tensor(0.5264)}\n",
      "Epoch 24, Train Loss: 0.03189164456398899\n",
      "Epoch 24, Validation Loss: 0.13282713176283964\n",
      "regression_metrics {'MAE': 0.28606465, 'RMSE': 0.36345902, 'MAPE': 23.469912, 'SMAPE': 28.555567}\n",
      "Classification Metrics: {'Accuracy': tensor(0.4933), 'F1': tensor(0.1552), 'Precision': tensor(0.0910), 'Recall': tensor(0.5262)}\n",
      "Epoch 25, Train Loss: 0.0322389691062377\n",
      "Epoch 25, Validation Loss: 0.1358543153228162\n",
      "regression_metrics {'MAE': 0.2905077, 'RMSE': 0.36758378, 'MAPE': 23.882608, 'SMAPE': 29.108076}\n",
      "Classification Metrics: {'Accuracy': tensor(0.4927), 'F1': tensor(0.1259), 'Precision': tensor(0.0714), 'Recall': tensor(0.5289)}\n",
      "Epoch 26, Train Loss: 0.02515521984731343\n",
      "Epoch 26, Validation Loss: 0.15045050971361962\n",
      "regression_metrics {'MAE': 0.3125594, 'RMSE': 0.38685897, 'MAPE': 25.994278, 'SMAPE': 31.904285}\n",
      "Classification Metrics: {'Accuracy': tensor(0.4910), 'F1': tensor(0.0375), 'Precision': tensor(0.0194), 'Recall': tensor(0.5662)}\n",
      "Epoch 27, Train Loss: 0.02191934613485322\n",
      "Epoch 27, Validation Loss: 0.13645818297938275\n",
      "regression_metrics {'MAE': 0.29140747, 'RMSE': 0.3684011, 'MAPE': 23.96703, 'SMAPE': 29.220455}\n",
      "Classification Metrics: {'Accuracy': tensor(0.4923), 'F1': tensor(0.1223), 'Precision': tensor(0.0692), 'Recall': tensor(0.5268)}\n",
      "Epoch 28, Train Loss: 0.026850430879706896\n",
      "Epoch 28, Validation Loss: 0.13148047171402977\n",
      "regression_metrics {'MAE': 0.28412133, 'RMSE': 0.3616091, 'MAPE': 23.291565, 'SMAPE': 28.315193}\n",
      "Classification Metrics: {'Accuracy': tensor(0.4942), 'F1': tensor(0.1659), 'Precision': tensor(0.0983), 'Recall': tensor(0.5291)}\n",
      "Epoch 29, Train Loss: 0.04037143929638697\n",
      "Epoch 29, Validation Loss: 0.16136826605516483\n",
      "regression_metrics {'MAE': 0.33001506, 'RMSE': 0.4006781, 'MAPE': 27.738937, 'SMAPE': 34.18205}\n",
      "Classification Metrics: {'Accuracy': tensor(0.4886), 'F1': tensor(0.0005), 'Precision': tensor(0.0003), 'Recall': tensor(0.3333)}\n",
      "Epoch 30, Train Loss: 0.0245060682662923\n",
      "Epoch 30, Validation Loss: 0.13548138533462675\n",
      "regression_metrics {'MAE': 0.28995293, 'RMSE': 0.36707813, 'MAPE': 23.830648, 'SMAPE': 29.038858}\n",
      "Classification Metrics: {'Accuracy': tensor(0.4940), 'F1': tensor(0.1315), 'Precision': tensor(0.0749), 'Recall': tensor(0.5369)}\n",
      "Epoch 31, Train Loss: 0.02374028124781897\n",
      "Epoch 31, Validation Loss: 0.14516221942760807\n",
      "regression_metrics {'MAE': 0.30448923, 'RMSE': 0.3799879, 'MAPE': 25.21105, 'SMAPE': 30.87092}\n",
      "Classification Metrics: {'Accuracy': tensor(0.4918), 'F1': tensor(0.0740), 'Precision': tensor(0.0397), 'Recall': tensor(0.5411)}\n",
      "Epoch 32, Train Loss: 0.01685181725426596\n",
      "Epoch 32, Validation Loss: 0.1401592663258002\n",
      "regression_metrics {'MAE': 0.2969458, 'RMSE': 0.3733716, 'MAPE': 24.490042, 'SMAPE': 29.915447}\n",
      "Classification Metrics: {'Accuracy': tensor(0.4915), 'F1': tensor(0.1005), 'Precision': tensor(0.0556), 'Recall': tensor(0.5262)}\n",
      "Epoch 33, Train Loss: 0.019002837054244992\n",
      "Epoch 33, Validation Loss: 0.14210965019071306\n",
      "regression_metrics {'MAE': 0.29989257, 'RMSE': 0.3759648, 'MAPE': 24.770933, 'SMAPE': 30.287563}\n",
      "Classification Metrics: {'Accuracy': tensor(0.4910), 'F1': tensor(0.0934), 'Precision': tensor(0.0513), 'Recall': tensor(0.5231)}\n",
      "Epoch 34, Train Loss: 0.01791386958516974\n",
      "Epoch 34, Validation Loss: 0.1558643249745579\n",
      "regression_metrics {'MAE': 0.32094815, 'RMSE': 0.39377, 'MAPE': 26.820871, 'SMAPE': 32.990696}\n",
      "Classification Metrics: {'Accuracy': tensor(0.4884), 'F1': tensor(0.0080), 'Precision': tensor(0.0040), 'Recall': tensor(0.4706)}\n",
      "Epoch 35, Train Loss: 0.01358548326561504\n",
      "Epoch 35, Validation Loss: 0.13501478517391063\n",
      "regression_metrics {'MAE': 0.289261, 'RMSE': 0.36644447, 'MAPE': 23.765987, 'SMAPE': 28.952621}\n",
      "Classification Metrics: {'Accuracy': tensor(0.4937), 'F1': tensor(0.1357), 'Precision': tensor(0.0777), 'Recall': tensor(0.5337)}\n",
      "Epoch 36, Train Loss: 0.02046729584889569\n",
      "Epoch 36, Validation Loss: 0.14776368172746904\n",
      "regression_metrics {'MAE': 0.30841625, 'RMSE': 0.3833831, 'MAPE': 25.589808, 'SMAPE': 31.372147}\n",
      "Classification Metrics: {'Accuracy': tensor(0.4914), 'F1': tensor(0.0531), 'Precision': tensor(0.0279), 'Recall': tensor(0.5522)}\n",
      "Epoch 37, Train Loss: 0.01641528651622448\n",
      "Epoch 37, Validation Loss: 0.1494046084916605\n",
      "regression_metrics {'MAE': 0.31095466, 'RMSE': 0.38550967, 'MAPE': 25.837587, 'SMAPE': 31.697887}\n",
      "Classification Metrics: {'Accuracy': tensor(0.4904), 'F1': tensor(0.0416), 'Precision': tensor(0.0216), 'Recall': tensor(0.5409)}\n",
      "Epoch 38, Train Loss: 0.02455229741682493\n",
      "Epoch 38, Validation Loss: 0.15298142737464943\n",
      "regression_metrics {'MAE': 0.3164648, 'RMSE': 0.39010483, 'MAPE': 26.377598, 'SMAPE': 32.408512}\n",
      "Classification Metrics: {'Accuracy': tensor(0.4893), 'F1': tensor(0.0197), 'Precision': tensor(0.0101), 'Recall': tensor(0.5333)}\n",
      "Epoch 39, Train Loss: 0.03778815581158737\n",
      "Epoch 39, Validation Loss: 0.13569592096138847\n",
      "regression_metrics {'MAE': 0.2902721, 'RMSE': 0.3673691, 'MAPE': 23.860535, 'SMAPE': 29.078669}\n",
      "Classification Metrics: {'Accuracy': tensor(0.4934), 'F1': tensor(0.1287), 'Precision': tensor(0.0732), 'Recall': tensor(0.5339)}\n",
      "Epoch 40, Train Loss: 0.021391715432285956\n",
      "Epoch 40, Validation Loss: 0.13716649280688784\n",
      "regression_metrics {'MAE': 0.2924644, 'RMSE': 0.3693575, 'MAPE': 24.066402, 'SMAPE': 29.352657}\n",
      "Classification Metrics: {'Accuracy': tensor(0.4914), 'F1': tensor(0.1174), 'Precision': tensor(0.0661), 'Recall': tensor(0.5208)}\n",
      "Epoch 41, Train Loss: 0.0185800463149106\n",
      "Epoch 41, Validation Loss: 0.16149367774754655\n",
      "regression_metrics {'MAE': 0.32948872, 'RMSE': 0.40082997, 'MAPE': 27.664633, 'SMAPE': 34.107697}\n",
      "Classification Metrics: {'Accuracy': tensor(0.4889), 'F1': tensor(0.0030), 'Precision': tensor(0.0015), 'Recall': tensor(0.6000)}\n",
      "Epoch 42, Train Loss: 0.011318424294920321\n",
      "Epoch 42, Validation Loss: 0.1340971905812664\n",
      "regression_metrics {'MAE': 0.28791264, 'RMSE': 0.36519518, 'MAPE': 23.640614, 'SMAPE': 28.784863}\n",
      "Classification Metrics: {'Accuracy': tensor(0.4946), 'F1': tensor(0.1468), 'Precision': tensor(0.0850), 'Recall': tensor(0.5365)}\n",
      "Epoch 43, Train Loss: 0.013712260326095948\n",
      "Epoch 43, Validation Loss: 0.1586207442086278\n",
      "regression_metrics {'MAE': 0.32513526, 'RMSE': 0.39724237, 'MAPE': 27.233822, 'SMAPE': 33.536804}\n",
      "Classification Metrics: {'Accuracy': tensor(0.4884), 'F1': tensor(0.0050), 'Precision': tensor(0.0025), 'Recall': tensor(0.4545)}\n",
      "Epoch 44, Train Loss: 0.03302405497096675\n",
      "Epoch 44, Validation Loss: 0.1445439173455911\n",
      "regression_metrics {'MAE': 0.30353218, 'RMSE': 0.3791763, 'MAPE': 25.11839, 'SMAPE': 30.749006}\n",
      "Classification Metrics: {'Accuracy': tensor(0.4918), 'F1': tensor(0.0796), 'Precision': tensor(0.0430), 'Recall': tensor(0.5377)}\n",
      "Epoch 45, Train Loss: 0.012452066212988977\n"
     ]
    },
    {
     "name": "stderr",
     "output_type": "stream",
     "text": [
      "WARNING:root:Warning: Some classes do not exist in the target. F1 scores for these classes will be cast to zeros.\n",
      "WARNING:root:No positive instances have been seen in target. Recall is converted from NaN to 0s.\n"
     ]
    },
    {
     "name": "stdout",
     "output_type": "stream",
     "text": [
      "Epoch 45, Validation Loss: 0.1697873267474905\n",
      "regression_metrics {'MAE': 0.3417995, 'RMSE': 0.41101184, 'MAPE': 28.88497, 'SMAPE': 35.737854}\n",
      "Classification Metrics: {'Accuracy': tensor(0.4887), 'F1': tensor(0.), 'Precision': tensor(0.), 'Recall': tensor(0.)}\n",
      "Epoch 46, Train Loss: 0.011341031737439368\n",
      "Epoch 46, Validation Loss: 0.12313763407026451\n",
      "regression_metrics {'MAE': 0.27269995, 'RMSE': 0.34993193, 'MAPE': 22.279385, 'SMAPE': 26.919842}\n",
      "Classification Metrics: {'Accuracy': tensor(0.4941), 'F1': tensor(0.2492), 'Precision': tensor(0.1642), 'Recall': tensor(0.5166)}\n",
      "Epoch 47, Train Loss: 0.023883320756977838\n",
      "Epoch 47, Validation Loss: 0.13263642791642896\n",
      "regression_metrics {'MAE': 0.28578848, 'RMSE': 0.36319762, 'MAPE': 23.44449, 'SMAPE': 28.521364}\n",
      "Classification Metrics: {'Accuracy': tensor(0.4942), 'F1': tensor(0.1584), 'Precision': tensor(0.0931), 'Recall': tensor(0.5308)}\n",
      "Epoch 48, Train Loss: 0.01630290850880087\n"
     ]
    },
    {
     "name": "stderr",
     "output_type": "stream",
     "text": [
      "WARNING:root:Warning: Some classes do not exist in the target. F1 scores for these classes will be cast to zeros.\n",
      "WARNING:root:No positive instances have been seen in target. Recall is converted from NaN to 0s.\n"
     ]
    },
    {
     "name": "stdout",
     "output_type": "stream",
     "text": [
      "Epoch 48, Validation Loss: 0.16917673488420465\n",
      "regression_metrics {'MAE': 0.34090802, 'RMSE': 0.4102708, 'MAPE': 28.796595, 'SMAPE': 35.619038}\n",
      "Classification Metrics: {'Accuracy': tensor(0.4887), 'F1': tensor(0.), 'Precision': tensor(0.), 'Recall': tensor(0.)}\n",
      "Epoch 49, Train Loss: 0.013568423358898032\n",
      "Epoch 49, Validation Loss: 0.14948720559786138\n",
      "regression_metrics {'MAE': 0.31107756, 'RMSE': 0.3856164, 'MAPE': 25.849466, 'SMAPE': 31.713655}\n",
      "Classification Metrics: {'Accuracy': tensor(0.4905), 'F1': tensor(0.0416), 'Precision': tensor(0.0216), 'Recall': tensor(0.5443)}\n",
      "Epoch 50, Train Loss: 0.049379728616104235\n",
      "Epoch 50, Validation Loss: 0.15400787805548566\n",
      "regression_metrics {'MAE': 0.31804886, 'RMSE': 0.39141363, 'MAPE': 26.533607, 'SMAPE': 32.613747}\n",
      "Classification Metrics: {'Accuracy': tensor(0.4888), 'F1': tensor(0.0134), 'Precision': tensor(0.0068), 'Recall': tensor(0.5094)}\n",
      "Epoch 51, Train Loss: 0.03631986728117733\n"
     ]
    },
    {
     "name": "stderr",
     "output_type": "stream",
     "text": [
      "WARNING:root:Warning: Some classes do not exist in the target. F1 scores for these classes will be cast to zeros.\n",
      "WARNING:root:No positive instances have been seen in target. Recall is converted from NaN to 0s.\n"
     ]
    },
    {
     "name": "stdout",
     "output_type": "stream",
     "text": [
      "Epoch 51, Validation Loss: 0.16858660285461305\n",
      "regression_metrics {'MAE': 0.34004423, 'RMSE': 0.40955338, 'MAPE': 28.710962, 'SMAPE': 35.504017}\n",
      "Classification Metrics: {'Accuracy': tensor(0.4887), 'F1': tensor(0.), 'Precision': tensor(0.), 'Recall': tensor(0.)}\n",
      "Epoch 52, Train Loss: 0.010727997924263523\n",
      "Epoch 52, Validation Loss: 0.14647046490778745\n",
      "regression_metrics {'MAE': 0.30645555, 'RMSE': 0.38169903, 'MAPE': 25.400167, 'SMAPE': 31.121515}\n",
      "Classification Metrics: {'Accuracy': tensor(0.4911), 'F1': tensor(0.0630), 'Precision': tensor(0.0335), 'Recall': tensor(0.5385)}\n",
      "Epoch 53, Train Loss: 0.015977018876930236\n",
      "Epoch 53, Validation Loss: 0.12712495242151847\n",
      "regression_metrics {'MAE': 0.27797446, 'RMSE': 0.35556036, 'MAPE': 22.73667, 'SMAPE': 27.56016}\n",
      "Classification Metrics: {'Accuracy': tensor(0.4943), 'F1': tensor(0.2069), 'Precision': tensor(0.1290), 'Recall': tensor(0.5224)}\n",
      "Epoch 54, Train Loss: 0.02520820508100338\n",
      "Epoch 54, Validation Loss: 0.1372661834068479\n",
      "regression_metrics {'MAE': 0.29261318, 'RMSE': 0.3694919, 'MAPE': 24.080408, 'SMAPE': 29.371286}\n",
      "Classification Metrics: {'Accuracy': tensor(0.4916), 'F1': tensor(0.1174), 'Precision': tensor(0.0661), 'Recall': tensor(0.5229)}\n",
      "Epoch 55, Train Loss: 0.014480565983003731\n",
      "Epoch 55, Validation Loss: 0.15444772482746363\n",
      "regression_metrics {'MAE': 0.3187283, 'RMSE': 0.3919731, 'MAPE': 26.600628, 'SMAPE': 32.701904}\n",
      "Classification Metrics: {'Accuracy': tensor(0.4888), 'F1': tensor(0.0119), 'Precision': tensor(0.0060), 'Recall': tensor(0.5106)}\n",
      "Epoch 56, Train Loss: 0.013851894031830918\n",
      "Epoch 56, Validation Loss: 0.1438785175779812\n",
      "regression_metrics {'MAE': 0.30252942, 'RMSE': 0.37830105, 'MAPE': 25.022238, 'SMAPE': 30.6216}\n",
      "Classification Metrics: {'Accuracy': tensor(0.4916), 'F1': tensor(0.0856), 'Precision': tensor(0.0465), 'Recall': tensor(0.5331)}\n",
      "Epoch 57, Train Loss: 0.01206377383375615\n",
      "Epoch 57, Validation Loss: 0.1544245861125509\n",
      "regression_metrics {'MAE': 0.31869256, 'RMSE': 0.39194372, 'MAPE': 26.597101, 'SMAPE': 32.697266}\n",
      "Classification Metrics: {'Accuracy': tensor(0.4888), 'F1': tensor(0.0119), 'Precision': tensor(0.0060), 'Recall': tensor(0.5106)}\n",
      "Epoch 58, Train Loss: 0.039821636708663774\n",
      "Epoch 58, Validation Loss: 0.14133049048380555\n",
      "regression_metrics {'MAE': 0.29870453, 'RMSE': 0.37493086, 'MAPE': 24.657242, 'SMAPE': 30.137293}\n",
      "Classification Metrics: {'Accuracy': tensor(0.4909), 'F1': tensor(0.0951), 'Precision': tensor(0.0523), 'Recall': tensor(0.5213)}\n",
      "Epoch 59, Train Loss: 0.045027401095603166\n",
      "Epoch 59, Validation Loss: 0.15369658844700426\n",
      "regression_metrics {'MAE': 0.31756783, 'RMSE': 0.39101717, 'MAPE': 26.486183, 'SMAPE': 32.551373}\n",
      "Classification Metrics: {'Accuracy': tensor(0.4888), 'F1': tensor(0.0154), 'Precision': tensor(0.0078), 'Recall': tensor(0.5082)}\n",
      "Epoch 60, Train Loss: 0.02786251710733371\n",
      "Epoch 60, Validation Loss: 0.14204308216408879\n",
      "regression_metrics {'MAE': 0.2997749, 'RMSE': 0.37587643, 'MAPE': 24.759207, 'SMAPE': 30.272568}\n",
      "Classification Metrics: {'Accuracy': tensor(0.4911), 'F1': tensor(0.0939), 'Precision': tensor(0.0516), 'Recall': tensor(0.5243)}\n",
      "Epoch 61, Train Loss: 0.019921854691590888\n",
      "Epoch 61, Validation Loss: 0.1571283686860356\n",
      "regression_metrics {'MAE': 0.32285532, 'RMSE': 0.39536598, 'MAPE': 27.008377, 'SMAPE': 33.238987}\n",
      "Classification Metrics: {'Accuracy': tensor(0.4880), 'F1': tensor(0.0055), 'Precision': tensor(0.0028), 'Recall': tensor(0.4074)}\n",
      "Epoch 62, Train Loss: 0.048431014999728975\n",
      "Epoch 62, Validation Loss: 0.15234159427426838\n",
      "regression_metrics {'MAE': 0.31547508, 'RMSE': 0.3892868, 'MAPE': 26.28021, 'SMAPE': 32.280476}\n",
      "Classification Metrics: {'Accuracy': tensor(0.4902), 'F1': tensor(0.0246), 'Precision': tensor(0.0126), 'Recall': tensor(0.5682)}\n",
      "Epoch 63, Train Loss: 0.054922789621863574\n",
      "Epoch 63, Validation Loss: 0.15471397158040925\n",
      "regression_metrics {'MAE': 0.31913957, 'RMSE': 0.39231142, 'MAPE': 26.641226, 'SMAPE': 32.75531}\n",
      "Classification Metrics: {'Accuracy': tensor(0.4888), 'F1': tensor(0.0109), 'Precision': tensor(0.0055), 'Recall': tensor(0.5116)}\n",
      "Epoch 64, Train Loss: 0.06062818338829491\n",
      "Epoch 64, Validation Loss: 0.14916906452151021\n",
      "regression_metrics {'MAE': 0.31058848, 'RMSE': 0.38520512, 'MAPE': 25.801743, 'SMAPE': 31.65082}\n",
      "Classification Metrics: {'Accuracy': tensor(0.4907), 'F1': tensor(0.0453), 'Precision': tensor(0.0236), 'Recall': tensor(0.5465)}\n",
      "Epoch 65, Train Loss: 0.058941390999158086\n",
      "Epoch 65, Validation Loss: 0.14175534317008465\n",
      "regression_metrics {'MAE': 0.29934287, 'RMSE': 0.3754949, 'MAPE': 24.718039, 'SMAPE': 30.217945}\n",
      "Classification Metrics: {'Accuracy': tensor(0.4910), 'F1': tensor(0.0939), 'Precision': tensor(0.0516), 'Recall': tensor(0.5230)}\n",
      "Epoch 66, Train Loss: 0.02604421254111856\n",
      "Epoch 66, Validation Loss: 0.12483449671510213\n",
      "regression_metrics {'MAE': 0.27490178, 'RMSE': 0.3523381, 'MAPE': 22.467869, 'SMAPE': 27.186235}\n",
      "Classification Metrics: {'Accuracy': tensor(0.4932), 'F1': tensor(0.2268), 'Precision': tensor(0.1454), 'Recall': tensor(0.5156)}\n",
      "Epoch 67, Train Loss: 0.03461764206260866\n",
      "Epoch 67, Validation Loss: 0.14526470697867316\n",
      "regression_metrics {'MAE': 0.30462378, 'RMSE': 0.3801221, 'MAPE': 25.223404, 'SMAPE': 30.887924}\n",
      "Classification Metrics: {'Accuracy': tensor(0.4918), 'F1': tensor(0.0736), 'Precision': tensor(0.0395), 'Recall': tensor(0.5414)}\n",
      "Epoch 68, Train Loss: 0.0644906266994796\n",
      "Epoch 68, Validation Loss: 0.1494380564628925\n",
      "regression_metrics {'MAE': 0.31100193, 'RMSE': 0.38555288, 'MAPE': 25.842089, 'SMAPE': 31.70394}\n",
      "Classification Metrics: {'Accuracy': tensor(0.4904), 'F1': tensor(0.0416), 'Precision': tensor(0.0216), 'Recall': tensor(0.5409)}\n",
      "Epoch 69, Train Loss: 0.0685968711876735\n",
      "Epoch 69, Validation Loss: 0.1543787392933393\n",
      "regression_metrics {'MAE': 0.31862172, 'RMSE': 0.39188543, 'MAPE': 26.59011, 'SMAPE': 32.688072}\n",
      "Classification Metrics: {'Accuracy': tensor(0.4888), 'F1': tensor(0.0119), 'Precision': tensor(0.0060), 'Recall': tensor(0.5106)}\n",
      "Epoch 70, Train Loss: 0.04762733895859831\n",
      "Epoch 70, Validation Loss: 0.13452501813322879\n",
      "regression_metrics {'MAE': 0.28853974, 'RMSE': 0.3657782, 'MAPE': 23.69883, 'SMAPE': 28.862833}\n",
      "Classification Metrics: {'Accuracy': tensor(0.4940), 'F1': tensor(0.1421), 'Precision': tensor(0.0820), 'Recall': tensor(0.5336)}\n",
      "Epoch 71, Train Loss: 0.027126430949288453\n",
      "Epoch 71, Validation Loss: 0.15523208524890103\n",
      "regression_metrics {'MAE': 0.3199394, 'RMSE': 0.3929689, 'MAPE': 26.72021, 'SMAPE': 32.859238}\n",
      "Classification Metrics: {'Accuracy': tensor(0.4882), 'F1': tensor(0.0085), 'Precision': tensor(0.0043), 'Recall': tensor(0.4474)}\n",
      "Epoch 72, Train Loss: 0.013746816404704987\n"
     ]
    },
    {
     "name": "stderr",
     "output_type": "stream",
     "text": [
      "WARNING:root:Warning: Some classes do not exist in the target. F1 scores for these classes will be cast to zeros.\n",
      "WARNING:root:No positive instances have been seen in target. Recall is converted from NaN to 0s.\n"
     ]
    },
    {
     "name": "stdout",
     "output_type": "stream",
     "text": [
      "Epoch 72, Validation Loss: 0.16390252719656181\n",
      "regression_metrics {'MAE': 0.3331089, 'RMSE': 0.40381357, 'MAPE': 28.023409, 'SMAPE': 34.584667}\n",
      "Classification Metrics: {'Accuracy': tensor(0.4887), 'F1': tensor(0.), 'Precision': tensor(0.), 'Recall': tensor(0.)}\n",
      "Epoch 73, Train Loss: 0.01654198059600979\n",
      "Epoch 73, Validation Loss: 0.14076063443182468\n",
      "regression_metrics {'MAE': 0.29784873, 'RMSE': 0.37417302, 'MAPE': 24.575829, 'SMAPE': 30.029272}\n",
      "Classification Metrics: {'Accuracy': tensor(0.4911), 'F1': tensor(0.0980), 'Precision': tensor(0.0541), 'Recall': tensor(0.5231)}\n",
      "Epoch 74, Train Loss: 0.022588426420036074\n",
      "Epoch 74, Validation Loss: 0.15670641076647998\n",
      "regression_metrics {'MAE': 0.32220796, 'RMSE': 0.39483386, 'MAPE': 26.944368, 'SMAPE': 33.154564}\n",
      "Classification Metrics: {'Accuracy': tensor(0.4882), 'F1': tensor(0.0060), 'Precision': tensor(0.0030), 'Recall': tensor(0.4286)}\n",
      "Epoch 75, Train Loss: 0.025871443312202872\n",
      "Epoch 75, Validation Loss: 0.1513390083048866\n",
      "regression_metrics {'MAE': 0.31392828, 'RMSE': 0.38800153, 'MAPE': 26.128355, 'SMAPE': 32.08072}\n",
      "Classification Metrics: {'Accuracy': tensor(0.4900), 'F1': tensor(0.0298), 'Precision': tensor(0.0153), 'Recall': tensor(0.5446)}\n",
      "Epoch 76, Train Loss: 0.05404986599929431\n",
      "Epoch 76, Validation Loss: 0.14645897492762922\n",
      "regression_metrics {'MAE': 0.306438, 'RMSE': 0.38168404, 'MAPE': 25.398474, 'SMAPE': 31.119278}\n",
      "Classification Metrics: {'Accuracy': tensor(0.4911), 'F1': tensor(0.0630), 'Precision': tensor(0.0335), 'Recall': tensor(0.5385)}\n",
      "Epoch 77, Train Loss: 0.05428071365832393\n",
      "Epoch 77, Validation Loss: 0.15710705416382015\n",
      "regression_metrics {'MAE': 0.32282266, 'RMSE': 0.39533913, 'MAPE': 27.005144, 'SMAPE': 33.234726}\n",
      "Classification Metrics: {'Accuracy': tensor(0.4880), 'F1': tensor(0.0055), 'Precision': tensor(0.0028), 'Recall': tensor(0.4074)}\n",
      "Epoch 78, Train Loss: 0.06536233802338776\n"
     ]
    },
    {
     "name": "stderr",
     "output_type": "stream",
     "text": [
      "WARNING:root:Warning: Some classes do not exist in the target. F1 scores for these classes will be cast to zeros.\n",
      "WARNING:root:No positive instances have been seen in target. Recall is converted from NaN to 0s.\n"
     ]
    },
    {
     "name": "stdout",
     "output_type": "stream",
     "text": [
      "Epoch 78, Validation Loss: 0.1644255990484781\n",
      "regression_metrics {'MAE': 0.33389047, 'RMSE': 0.40445855, 'MAPE': 28.100893, 'SMAPE': 34.687916}\n",
      "Classification Metrics: {'Accuracy': tensor(0.4887), 'F1': tensor(0.), 'Precision': tensor(0.), 'Recall': tensor(0.)}\n",
      "Epoch 79, Train Loss: 0.07064858456999797\n",
      "Epoch 79, Validation Loss: 0.16234436049674766\n",
      "regression_metrics {'MAE': 0.33077055, 'RMSE': 0.40188614, 'MAPE': 27.791622, 'SMAPE': 34.276344}\n",
      "Classification Metrics: {'Accuracy': tensor(0.4886), 'F1': tensor(0.0005), 'Precision': tensor(0.0003), 'Recall': tensor(0.3333)}\n",
      "Epoch 80, Train Loss: 0.06330994090563932\n",
      "Epoch 80, Validation Loss: 0.1535466264287875\n",
      "regression_metrics {'MAE': 0.31733608, 'RMSE': 0.39082605, 'MAPE': 26.463348, 'SMAPE': 32.521343}\n",
      "Classification Metrics: {'Accuracy': tensor(0.4889), 'F1': tensor(0.0163), 'Precision': tensor(0.0083), 'Recall': tensor(0.5156)}\n",
      "Epoch 81, Train Loss: 0.04679806002414788\n",
      "Epoch 81, Validation Loss: 0.16015686768001675\n",
      "regression_metrics {'MAE': 0.32746822, 'RMSE': 0.3991646, 'MAPE': 27.464615, 'SMAPE': 33.842373}\n",
      "Classification Metrics: {'Accuracy': tensor(0.4884), 'F1': tensor(0.0045), 'Precision': tensor(0.0023), 'Recall': tensor(0.4500)}\n",
      "Epoch 82, Train Loss: 0.038334831376851446\n",
      "Epoch 82, Validation Loss: 0.1200188948389011\n",
      "regression_metrics {'MAE': 0.26887816, 'RMSE': 0.34546617, 'MAPE': 21.964088, 'SMAPE': 26.461052}\n",
      "Classification Metrics: {'Accuracy': tensor(0.4943), 'F1': tensor(0.2780), 'Precision': tensor(0.1904), 'Recall': tensor(0.5150)}\n",
      "Epoch 83, Train Loss: 0.027838057005803572\n",
      "Epoch 83, Validation Loss: 0.15766968975617973\n",
      "regression_metrics {'MAE': 0.32368404, 'RMSE': 0.39604762, 'MAPE': 27.090311, 'SMAPE': 33.34714}\n",
      "Classification Metrics: {'Accuracy': tensor(0.4882), 'F1': tensor(0.0055), 'Precision': tensor(0.0028), 'Recall': tensor(0.4231)}\n",
      "Epoch 84, Train Loss: 0.0391018821971308\n",
      "Epoch 84, Validation Loss: 0.15079522647677357\n",
      "regression_metrics {'MAE': 0.31309026, 'RMSE': 0.38730264, 'MAPE': 26.04624, 'SMAPE': 31.972668}\n",
      "Classification Metrics: {'Accuracy': tensor(0.4906), 'F1': tensor(0.0346), 'Precision': tensor(0.0179), 'Recall': tensor(0.5591)}\n",
      "Epoch 85, Train Loss: 0.026003350224016817\n",
      "Epoch 85, Validation Loss: 0.15525255841698038\n",
      "regression_metrics {'MAE': 0.31997097, 'RMSE': 0.39299485, 'MAPE': 26.72333, 'SMAPE': 32.863346}\n",
      "Classification Metrics: {'Accuracy': tensor(0.4882), 'F1': tensor(0.0085), 'Precision': tensor(0.0043), 'Recall': tensor(0.4474)}\n",
      "Epoch 86, Train Loss: 0.015879173540551416\n",
      "Epoch 86, Validation Loss: 0.11665413596406846\n",
      "regression_metrics {'MAE': 0.26501933, 'RMSE': 0.34058294, 'MAPE': 21.661205, 'SMAPE': 26.002571}\n",
      "Classification Metrics: {'Accuracy': tensor(0.4951), 'F1': tensor(0.3120), 'Precision': tensor(0.2238), 'Recall': tensor(0.5145)}\n",
      "Epoch 87, Train Loss: 0.02221953594737466\n",
      "Epoch 87, Validation Loss: 0.11582306611603226\n",
      "regression_metrics {'MAE': 0.26412228, 'RMSE': 0.3393661, 'MAPE': 21.594072, 'SMAPE': 25.896818}\n",
      "Classification Metrics: {'Accuracy': tensor(0.4952), 'F1': tensor(0.3199), 'Precision': tensor(0.2321), 'Recall': tensor(0.5142)}\n",
      "Epoch 88, Train Loss: 0.03110900480031156\n",
      "Epoch 88, Validation Loss: 0.15647615741074303\n",
      "regression_metrics {'MAE': 0.32185423, 'RMSE': 0.39454317, 'MAPE': 26.909405, 'SMAPE': 33.108467}\n",
      "Classification Metrics: {'Accuracy': tensor(0.4880), 'F1': tensor(0.0060), 'Precision': tensor(0.0030), 'Recall': tensor(0.4138)}\n",
      "Epoch 89, Train Loss: 0.04141651750821729\n",
      "Epoch 89, Validation Loss: 0.16128761523983395\n",
      "regression_metrics {'MAE': 0.32917774, 'RMSE': 0.4005737, 'MAPE': 27.633833, 'SMAPE': 34.06681}\n",
      "Classification Metrics: {'Accuracy': tensor(0.4889), 'F1': tensor(0.0030), 'Precision': tensor(0.0015), 'Recall': tensor(0.6000)}\n",
      "Epoch 90, Train Loss: 0.039507003100526\n",
      "Epoch 90, Validation Loss: 0.15490162084037754\n",
      "regression_metrics {'MAE': 0.3194293, 'RMSE': 0.39254966, 'MAPE': 26.669836, 'SMAPE': 32.79295}\n",
      "Classification Metrics: {'Accuracy': tensor(0.4886), 'F1': tensor(0.0100), 'Precision': tensor(0.0050), 'Recall': tensor(0.4878)}\n",
      "Epoch 91, Train Loss: 0.03579831760732267\n",
      "Epoch 91, Validation Loss: 0.15591748420554155\n",
      "regression_metrics {'MAE': 0.32099524, 'RMSE': 0.39383698, 'MAPE': 26.82451, 'SMAPE': 32.99659}\n",
      "Classification Metrics: {'Accuracy': tensor(0.4884), 'F1': tensor(0.0080), 'Precision': tensor(0.0040), 'Recall': tensor(0.4706)}\n",
      "Epoch 92, Train Loss: 0.023965086445158018\n",
      "Epoch 92, Validation Loss: 0.1559893318505497\n",
      "regression_metrics {'MAE': 0.32110578, 'RMSE': 0.3939279, 'MAPE': 26.835432, 'SMAPE': 33.010983}\n",
      "Classification Metrics: {'Accuracy': tensor(0.4884), 'F1': tensor(0.0080), 'Precision': tensor(0.0040), 'Recall': tensor(0.4706)}\n",
      "Epoch 93, Train Loss: 0.02910291924186686\n",
      "Epoch 93, Validation Loss: 0.1495598004858635\n",
      "regression_metrics {'MAE': 0.31118917, 'RMSE': 0.38571015, 'MAPE': 25.860363, 'SMAPE': 31.728}\n",
      "Classification Metrics: {'Accuracy': tensor(0.4905), 'F1': tensor(0.0416), 'Precision': tensor(0.0216), 'Recall': tensor(0.5443)}\n",
      "Epoch 94, Train Loss: 0.04281489768656459\n",
      "Epoch 94, Validation Loss: 0.14936777194570375\n",
      "regression_metrics {'MAE': 0.31089386, 'RMSE': 0.38546205, 'MAPE': 25.831535, 'SMAPE': 31.690048}\n",
      "Classification Metrics: {'Accuracy': tensor(0.4904), 'F1': tensor(0.0416), 'Precision': tensor(0.0216), 'Recall': tensor(0.5409)}\n",
      "Epoch 95, Train Loss: 0.03943559907793549\n",
      "Epoch 95, Validation Loss: 0.1517709895213288\n",
      "regression_metrics {'MAE': 0.31459448, 'RMSE': 0.38855582, 'MAPE': 26.193714, 'SMAPE': 32.166702}\n",
      "Classification Metrics: {'Accuracy': tensor(0.4905), 'F1': tensor(0.0284), 'Precision': tensor(0.0146), 'Recall': tensor(0.5686)}\n",
      "Epoch 96, Train Loss: 0.049101000362863544\n"
     ]
    },
    {
     "name": "stderr",
     "output_type": "stream",
     "text": [
      "WARNING:root:Warning: Some classes do not exist in the target. F1 scores for these classes will be cast to zeros.\n",
      "WARNING:root:No positive instances have been seen in target. Recall is converted from NaN to 0s.\n"
     ]
    },
    {
     "name": "stdout",
     "output_type": "stream",
     "text": [
      "Epoch 96, Validation Loss: 0.17166955093042086\n",
      "regression_metrics {'MAE': 0.34453303, 'RMSE': 0.41328785, 'MAPE': 29.155964, 'SMAPE': 36.102966}\n",
      "Classification Metrics: {'Accuracy': tensor(0.4887), 'F1': tensor(0.), 'Precision': tensor(0.), 'Recall': tensor(0.)}\n",
      "Epoch 97, Train Loss: 0.04502952468596584\n",
      "Epoch 97, Validation Loss: 0.15450468117723787\n",
      "regression_metrics {'MAE': 0.31881627, 'RMSE': 0.39204553, 'MAPE': 26.60931, 'SMAPE': 32.713326}\n",
      "Classification Metrics: {'Accuracy': tensor(0.4888), 'F1': tensor(0.0119), 'Precision': tensor(0.0060), 'Recall': tensor(0.5106)}\n",
      "Epoch 98, Train Loss: 0.05633347511324124\n",
      "Epoch 98, Validation Loss: 0.15258597459919135\n",
      "regression_metrics {'MAE': 0.31585243, 'RMSE': 0.3895994, 'MAPE': 26.31731, 'SMAPE': 32.329266}\n",
      "Classification Metrics: {'Accuracy': tensor(0.4897), 'F1': tensor(0.0227), 'Precision': tensor(0.0116), 'Recall': tensor(0.5476)}\n",
      "Epoch 99, Train Loss: 0.03363359642250459\n",
      "Epoch 99, Validation Loss: 0.15639652508020174\n",
      "regression_metrics {'MAE': 0.32173193, 'RMSE': 0.3944426, 'MAPE': 26.897306, 'SMAPE': 33.09252}\n",
      "Classification Metrics: {'Accuracy': tensor(0.4883), 'F1': tensor(0.0070), 'Precision': tensor(0.0035), 'Recall': tensor(0.4516)}\n",
      "Epoch 100, Train Loss: 0.04649074475506008\n",
      "Epoch 100, Validation Loss: 0.14802462841468145\n",
      "regression_metrics {'MAE': 0.30883133, 'RMSE': 0.38372213, 'MAPE': 25.630594, 'SMAPE': 31.425407}\n",
      "Classification Metrics: {'Accuracy': tensor(0.4911), 'F1': tensor(0.0513), 'Precision': tensor(0.0269), 'Recall': tensor(0.5487)}\n",
      "Epoch 101, Train Loss: 0.03804704551493929\n",
      "Epoch 101, Validation Loss: 0.1489548738195108\n",
      "regression_metrics {'MAE': 0.31025973, 'RMSE': 0.384928, 'MAPE': 25.769695, 'SMAPE': 31.608606}\n",
      "Classification Metrics: {'Accuracy': tensor(0.4909), 'F1': tensor(0.0463), 'Precision': tensor(0.0241), 'Recall': tensor(0.5486)}\n",
      "Epoch 102, Train Loss: 0.04609201054161053\n",
      "Epoch 102, Validation Loss: 0.1331731505015341\n",
      "regression_metrics {'MAE': 0.28656626, 'RMSE': 0.36393285, 'MAPE': 23.516115, 'SMAPE': 28.61773}\n",
      "Classification Metrics: {'Accuracy': tensor(0.4928), 'F1': tensor(0.1522), 'Precision': tensor(0.0890), 'Recall': tensor(0.5237)}\n",
      "Epoch 103, Train Loss: 0.03917954785220928\n",
      "Epoch 103, Validation Loss: 0.14495957753740082\n",
      "regression_metrics {'MAE': 0.30416113, 'RMSE': 0.379722, 'MAPE': 25.178856, 'SMAPE': 30.829016}\n",
      "Classification Metrics: {'Accuracy': tensor(0.4916), 'F1': tensor(0.0753), 'Precision': tensor(0.0405), 'Recall': tensor(0.5385)}\n",
      "Epoch 104, Train Loss: 0.023403600079610003\n",
      "Epoch 104, Validation Loss: 0.15200442748886656\n",
      "regression_metrics {'MAE': 0.31495467, 'RMSE': 0.388855, 'MAPE': 26.229078, 'SMAPE': 32.213223}\n",
      "Classification Metrics: {'Accuracy': tensor(0.4902), 'F1': tensor(0.0265), 'Precision': tensor(0.0136), 'Recall': tensor(0.5625)}\n",
      "Epoch 105, Train Loss: 0.01984878499205685\n",
      "Epoch 105, Validation Loss: 0.15755075104434432\n",
      "regression_metrics {'MAE': 0.32350215, 'RMSE': 0.39589798, 'MAPE': 27.072327, 'SMAPE': 33.32339}\n",
      "Classification Metrics: {'Accuracy': tensor(0.4880), 'F1': tensor(0.0055), 'Precision': tensor(0.0028), 'Recall': tensor(0.4074)}\n",
      "Epoch 106, Train Loss: 0.05297702118597729\n",
      "Epoch 106, Validation Loss: 0.15198239678349756\n",
      "regression_metrics {'MAE': 0.31492066, 'RMSE': 0.3888268, 'MAPE': 26.225739, 'SMAPE': 32.208828}\n",
      "Classification Metrics: {'Accuracy': tensor(0.4902), 'F1': tensor(0.0265), 'Precision': tensor(0.0136), 'Recall': tensor(0.5625)}\n",
      "Epoch 107, Train Loss: 0.04861812061929263\n",
      "Epoch 107, Validation Loss: 0.1577668122720707\n",
      "regression_metrics {'MAE': 0.3238325, 'RMSE': 0.39616978, 'MAPE': 27.104994, 'SMAPE': 33.366535}\n",
      "Classification Metrics: {'Accuracy': tensor(0.4882), 'F1': tensor(0.0055), 'Precision': tensor(0.0028), 'Recall': tensor(0.4231)}\n",
      "Epoch 108, Train Loss: 0.017775414157746857\n",
      "Epoch 108, Validation Loss: 0.1208136859315614\n",
      "regression_metrics {'MAE': 0.26983336, 'RMSE': 0.34660965, 'MAPE': 22.041733, 'SMAPE': 26.575317}\n",
      "Classification Metrics: {'Accuracy': tensor(0.4937), 'F1': tensor(0.2716), 'Precision': tensor(0.1846), 'Recall': tensor(0.5136)}\n",
      "Epoch 109, Train Loss: 0.05337028769907792\n",
      "Epoch 109, Validation Loss: 0.1549369256911438\n",
      "regression_metrics {'MAE': 0.31948382, 'RMSE': 0.3925945, 'MAPE': 26.675219, 'SMAPE': 32.800034}\n",
      "Classification Metrics: {'Accuracy': tensor(0.4883), 'F1': tensor(0.0090), 'Precision': tensor(0.0045), 'Recall': tensor(0.4615)}\n",
      "Epoch 110, Train Loss: 0.06338289362049378\n",
      "Epoch 110, Validation Loss: 0.1534164188286341\n",
      "regression_metrics {'MAE': 0.31713498, 'RMSE': 0.39066002, 'MAPE': 26.443531, 'SMAPE': 32.495277}\n",
      "Classification Metrics: {'Accuracy': tensor(0.4891), 'F1': tensor(0.0168), 'Precision': tensor(0.0086), 'Recall': tensor(0.5231)}\n",
      "Epoch 111, Train Loss: 0.06765970659200751\n",
      "Epoch 111, Validation Loss: 0.15608417751879686\n",
      "regression_metrics {'MAE': 0.32125166, 'RMSE': 0.39404783, 'MAPE': 26.84985, 'SMAPE': 33.029976}\n",
      "Classification Metrics: {'Accuracy': tensor(0.4883), 'F1': tensor(0.0075), 'Precision': tensor(0.0038), 'Recall': tensor(0.4545)}\n",
      "Epoch 112, Train Loss: 0.07043553066038849\n",
      "Epoch 112, Validation Loss: 0.15441768672406128\n",
      "regression_metrics {'MAE': 0.31868193, 'RMSE': 0.391935, 'MAPE': 26.596052, 'SMAPE': 32.695885}\n",
      "Classification Metrics: {'Accuracy': tensor(0.4888), 'F1': tensor(0.0119), 'Precision': tensor(0.0060), 'Recall': tensor(0.5106)}\n",
      "Epoch 113, Train Loss: 0.0719519725492028\n"
     ]
    },
    {
     "name": "stderr",
     "output_type": "stream",
     "text": [
      "WARNING:root:Warning: Some classes do not exist in the target. F1 scores for these classes will be cast to zeros.\n",
      "WARNING:root:No positive instances have been seen in target. Recall is converted from NaN to 0s.\n"
     ]
    },
    {
     "name": "stdout",
     "output_type": "stream",
     "text": [
      "Epoch 113, Validation Loss: 0.16980960765795317\n",
      "regression_metrics {'MAE': 0.34183195, 'RMSE': 0.4110389, 'MAPE': 28.88819, 'SMAPE': 35.74219}\n",
      "Classification Metrics: {'Accuracy': tensor(0.4887), 'F1': tensor(0.), 'Precision': tensor(0.), 'Recall': tensor(0.)}\n",
      "Epoch 114, Train Loss: 0.07059885753773715\n"
     ]
    },
    {
     "name": "stderr",
     "output_type": "stream",
     "text": [
      "WARNING:root:Warning: Some classes do not exist in the target. F1 scores for these classes will be cast to zeros.\n",
      "WARNING:root:No positive instances have been seen in target. Recall is converted from NaN to 0s.\n"
     ]
    },
    {
     "name": "stdout",
     "output_type": "stream",
     "text": [
      "Epoch 114, Validation Loss: 0.17088412064543665\n",
      "regression_metrics {'MAE': 0.34339496, 'RMSE': 0.41233963, 'MAPE': 29.043142, 'SMAPE': 35.95082}\n",
      "Classification Metrics: {'Accuracy': tensor(0.4887), 'F1': tensor(0.), 'Precision': tensor(0.), 'Recall': tensor(0.)}\n",
      "Epoch 115, Train Loss: 0.0739940142930115\n"
     ]
    },
    {
     "name": "stderr",
     "output_type": "stream",
     "text": [
      "WARNING:root:Warning: Some classes do not exist in the target. F1 scores for these classes will be cast to zeros.\n",
      "WARNING:root:No positive instances have been seen in target. Recall is converted from NaN to 0s.\n"
     ]
    },
    {
     "name": "stdout",
     "output_type": "stream",
     "text": [
      "Epoch 115, Validation Loss: 0.18209986763120797\n",
      "regression_metrics {'MAE': 0.35930523, 'RMSE': 0.4256808, 'MAPE': 30.620443, 'SMAPE': 38.09613}\n",
      "Classification Metrics: {'Accuracy': tensor(0.4887), 'F1': tensor(0.), 'Precision': tensor(0.), 'Recall': tensor(0.)}\n",
      "Epoch 116, Train Loss: 0.07358771948854634\n"
     ]
    },
    {
     "name": "stderr",
     "output_type": "stream",
     "text": [
      "WARNING:root:Warning: Some classes do not exist in the target. F1 scores for these classes will be cast to zeros.\n",
      "WARNING:root:No positive instances have been seen in target. Recall is converted from NaN to 0s.\n"
     ]
    },
    {
     "name": "stdout",
     "output_type": "stream",
     "text": [
      "Epoch 116, Validation Loss: 0.19557417321141016\n",
      "regression_metrics {'MAE': 0.37753648, 'RMSE': 0.44117758, 'MAPE': 32.427837, 'SMAPE': 40.60371}\n",
      "Classification Metrics: {'Accuracy': tensor(0.4887), 'F1': tensor(0.), 'Precision': tensor(0.), 'Recall': tensor(0.)}\n",
      "Epoch 117, Train Loss: 0.07296455919764487\n"
     ]
    },
    {
     "name": "stderr",
     "output_type": "stream",
     "text": [
      "WARNING:root:Warning: Some classes do not exist in the target. F1 scores for these classes will be cast to zeros.\n",
      "WARNING:root:No positive instances have been seen in target. Recall is converted from NaN to 0s.\n"
     ]
    },
    {
     "name": "stdout",
     "output_type": "stream",
     "text": [
      "Epoch 117, Validation Loss: 0.19371809097022186\n",
      "regression_metrics {'MAE': 0.3750776, 'RMSE': 0.43907526, 'MAPE': 32.18407, 'SMAPE': 40.26238}\n",
      "Classification Metrics: {'Accuracy': tensor(0.4887), 'F1': tensor(0.), 'Precision': tensor(0.), 'Recall': tensor(0.)}\n",
      "Epoch 118, Train Loss: 0.07324708811871254\n"
     ]
    },
    {
     "name": "stderr",
     "output_type": "stream",
     "text": [
      "WARNING:root:Warning: Some classes do not exist in the target. F1 scores for these classes will be cast to zeros.\n",
      "WARNING:root:No positive instances have been seen in target. Recall is converted from NaN to 0s.\n"
     ]
    },
    {
     "name": "stdout",
     "output_type": "stream",
     "text": [
      "Epoch 118, Validation Loss: 0.19349892440511554\n",
      "regression_metrics {'MAE': 0.37478617, 'RMSE': 0.43882635, 'MAPE': 32.15518, 'SMAPE': 40.22199}\n",
      "Classification Metrics: {'Accuracy': tensor(0.4887), 'F1': tensor(0.), 'Precision': tensor(0.), 'Recall': tensor(0.)}\n",
      "Epoch 119, Train Loss: 0.0733051924596027\n"
     ]
    },
    {
     "name": "stderr",
     "output_type": "stream",
     "text": [
      "WARNING:root:Warning: Some classes do not exist in the target. F1 scores for these classes will be cast to zeros.\n",
      "WARNING:root:No positive instances have been seen in target. Recall is converted from NaN to 0s.\n"
     ]
    },
    {
     "name": "stdout",
     "output_type": "stream",
     "text": [
      "Epoch 119, Validation Loss: 0.19357358966190674\n",
      "regression_metrics {'MAE': 0.37488547, 'RMSE': 0.43891114, 'MAPE': 32.165024, 'SMAPE': 40.23575}\n",
      "Classification Metrics: {'Accuracy': tensor(0.4887), 'F1': tensor(0.), 'Precision': tensor(0.), 'Recall': tensor(0.)}\n",
      "Epoch 120, Train Loss: 0.07331531593118813\n"
     ]
    },
    {
     "name": "stderr",
     "output_type": "stream",
     "text": [
      "WARNING:root:Warning: Some classes do not exist in the target. F1 scores for these classes will be cast to zeros.\n",
      "WARNING:root:No positive instances have been seen in target. Recall is converted from NaN to 0s.\n"
     ]
    },
    {
     "name": "stdout",
     "output_type": "stream",
     "text": [
      "Epoch 120, Validation Loss: 0.19367302548079218\n",
      "regression_metrics {'MAE': 0.3750177, 'RMSE': 0.4390241, 'MAPE': 32.17813, 'SMAPE': 40.25407}\n",
      "Classification Metrics: {'Accuracy': tensor(0.4887), 'F1': tensor(0.), 'Precision': tensor(0.), 'Recall': tensor(0.)}\n",
      "Epoch 121, Train Loss: 0.07331575743367082\n"
     ]
    },
    {
     "name": "stderr",
     "output_type": "stream",
     "text": [
      "WARNING:root:Warning: Some classes do not exist in the target. F1 scores for these classes will be cast to zeros.\n",
      "WARNING:root:No positive instances have been seen in target. Recall is converted from NaN to 0s.\n"
     ]
    },
    {
     "name": "stdout",
     "output_type": "stream",
     "text": [
      "Epoch 121, Validation Loss: 0.1937511896821441\n",
      "regression_metrics {'MAE': 0.37512156, 'RMSE': 0.4391128, 'MAPE': 32.18843, 'SMAPE': 40.268475}\n",
      "Classification Metrics: {'Accuracy': tensor(0.4887), 'F1': tensor(0.), 'Precision': tensor(0.), 'Recall': tensor(0.)}\n",
      "Epoch 122, Train Loss: 0.07331463489765494\n"
     ]
    },
    {
     "name": "stderr",
     "output_type": "stream",
     "text": [
      "WARNING:root:Warning: Some classes do not exist in the target. F1 scores for these classes will be cast to zeros.\n",
      "WARNING:root:No positive instances have been seen in target. Recall is converted from NaN to 0s.\n"
     ]
    },
    {
     "name": "stdout",
     "output_type": "stream",
     "text": [
      "Epoch 122, Validation Loss: 0.19380676584913717\n",
      "regression_metrics {'MAE': 0.37519544, 'RMSE': 0.43917587, 'MAPE': 32.195755, 'SMAPE': 40.27871}\n",
      "Classification Metrics: {'Accuracy': tensor(0.4887), 'F1': tensor(0.), 'Precision': tensor(0.), 'Recall': tensor(0.)}\n",
      "Epoch 123, Train Loss: 0.07331343320702123\n"
     ]
    },
    {
     "name": "stderr",
     "output_type": "stream",
     "text": [
      "WARNING:root:Warning: Some classes do not exist in the target. F1 scores for these classes will be cast to zeros.\n",
      "WARNING:root:No positive instances have been seen in target. Recall is converted from NaN to 0s.\n"
     ]
    },
    {
     "name": "stdout",
     "output_type": "stream",
     "text": [
      "Epoch 123, Validation Loss: 0.1938443165348812\n",
      "regression_metrics {'MAE': 0.3752453, 'RMSE': 0.43921852, 'MAPE': 32.2007, 'SMAPE': 40.285625}\n",
      "Classification Metrics: {'Accuracy': tensor(0.4887), 'F1': tensor(0.), 'Precision': tensor(0.), 'Recall': tensor(0.)}\n",
      "Epoch 124, Train Loss: 0.07331269077933274\n"
     ]
    },
    {
     "name": "stderr",
     "output_type": "stream",
     "text": [
      "WARNING:root:Warning: Some classes do not exist in the target. F1 scores for these classes will be cast to zeros.\n",
      "WARNING:root:No positive instances have been seen in target. Recall is converted from NaN to 0s.\n"
     ]
    },
    {
     "name": "stdout",
     "output_type": "stream",
     "text": [
      "Epoch 124, Validation Loss: 0.19387016070960852\n",
      "regression_metrics {'MAE': 0.3752797, 'RMSE': 0.43924788, 'MAPE': 32.2041, 'SMAPE': 40.29039}\n",
      "Classification Metrics: {'Accuracy': tensor(0.4887), 'F1': tensor(0.), 'Precision': tensor(0.), 'Recall': tensor(0.)}\n",
      "Epoch 125, Train Loss: 0.07331211469218689\n"
     ]
    },
    {
     "name": "stderr",
     "output_type": "stream",
     "text": [
      "WARNING:root:Warning: Some classes do not exist in the target. F1 scores for these classes will be cast to zeros.\n",
      "WARNING:root:No positive instances have been seen in target. Recall is converted from NaN to 0s.\n"
     ]
    },
    {
     "name": "stdout",
     "output_type": "stream",
     "text": [
      "Epoch 125, Validation Loss: 0.1938876613505093\n",
      "regression_metrics {'MAE': 0.3753029, 'RMSE': 0.43926772, 'MAPE': 32.20641, 'SMAPE': 40.293613}\n",
      "Classification Metrics: {'Accuracy': tensor(0.4887), 'F1': tensor(0.), 'Precision': tensor(0.), 'Recall': tensor(0.)}\n",
      "Epoch 126, Train Loss: 0.07331170872900666\n"
     ]
    },
    {
     "name": "stderr",
     "output_type": "stream",
     "text": [
      "WARNING:root:Warning: Some classes do not exist in the target. F1 scores for these classes will be cast to zeros.\n",
      "WARNING:root:No positive instances have been seen in target. Recall is converted from NaN to 0s.\n"
     ]
    },
    {
     "name": "stdout",
     "output_type": "stream",
     "text": [
      "Epoch 126, Validation Loss: 0.19389941765102328\n",
      "regression_metrics {'MAE': 0.3753185, 'RMSE': 0.43928105, 'MAPE': 32.207954, 'SMAPE': 40.295776}\n",
      "Classification Metrics: {'Accuracy': tensor(0.4887), 'F1': tensor(0.), 'Precision': tensor(0.), 'Recall': tensor(0.)}\n",
      "Epoch 127, Train Loss: 0.07331146416276844\n"
     ]
    },
    {
     "name": "stderr",
     "output_type": "stream",
     "text": [
      "WARNING:root:Warning: Some classes do not exist in the target. F1 scores for these classes will be cast to zeros.\n",
      "WARNING:root:No positive instances have been seen in target. Recall is converted from NaN to 0s.\n"
     ]
    },
    {
     "name": "stdout",
     "output_type": "stream",
     "text": [
      "Epoch 127, Validation Loss: 0.19390762876528392\n",
      "regression_metrics {'MAE': 0.3753294, 'RMSE': 0.43929037, 'MAPE': 32.209038, 'SMAPE': 40.29729}\n",
      "Classification Metrics: {'Accuracy': tensor(0.4887), 'F1': tensor(0.), 'Precision': tensor(0.), 'Recall': tensor(0.)}\n",
      "Epoch 128, Train Loss: 0.07331126162156129\n"
     ]
    },
    {
     "name": "stderr",
     "output_type": "stream",
     "text": [
      "WARNING:root:Warning: Some classes do not exist in the target. F1 scores for these classes will be cast to zeros.\n",
      "WARNING:root:No positive instances have been seen in target. Recall is converted from NaN to 0s.\n"
     ]
    },
    {
     "name": "stdout",
     "output_type": "stream",
     "text": [
      "Epoch 128, Validation Loss: 0.19391288004670537\n",
      "regression_metrics {'MAE': 0.37533638, 'RMSE': 0.43929633, 'MAPE': 32.209724, 'SMAPE': 40.298256}\n",
      "Classification Metrics: {'Accuracy': tensor(0.4887), 'F1': tensor(0.), 'Precision': tensor(0.), 'Recall': tensor(0.)}\n",
      "Epoch 129, Train Loss: 0.07331115976708087\n"
     ]
    },
    {
     "name": "stderr",
     "output_type": "stream",
     "text": [
      "WARNING:root:Warning: Some classes do not exist in the target. F1 scores for these classes will be cast to zeros.\n",
      "WARNING:root:No positive instances have been seen in target. Recall is converted from NaN to 0s.\n"
     ]
    },
    {
     "name": "stdout",
     "output_type": "stream",
     "text": [
      "Epoch 129, Validation Loss: 0.1939162901358404\n",
      "regression_metrics {'MAE': 0.37534097, 'RMSE': 0.4393002, 'MAPE': 32.21018, 'SMAPE': 40.298885}\n",
      "Classification Metrics: {'Accuracy': tensor(0.4887), 'F1': tensor(0.), 'Precision': tensor(0.), 'Recall': tensor(0.)}\n",
      "Epoch 130, Train Loss: 0.07331112712143426\n"
     ]
    },
    {
     "name": "stderr",
     "output_type": "stream",
     "text": [
      "WARNING:root:Warning: Some classes do not exist in the target. F1 scores for these classes will be cast to zeros.\n",
      "WARNING:root:No positive instances have been seen in target. Recall is converted from NaN to 0s.\n"
     ]
    },
    {
     "name": "stdout",
     "output_type": "stream",
     "text": [
      "Epoch 130, Validation Loss: 0.19391907241241244\n",
      "regression_metrics {'MAE': 0.3753446, 'RMSE': 0.43930334, 'MAPE': 32.210545, 'SMAPE': 40.299397}\n",
      "Classification Metrics: {'Accuracy': tensor(0.4887), 'F1': tensor(0.), 'Precision': tensor(0.), 'Recall': tensor(0.)}\n",
      "Epoch 131, Train Loss: 0.07331102922912532\n"
     ]
    },
    {
     "name": "stderr",
     "output_type": "stream",
     "text": [
      "WARNING:root:Warning: Some classes do not exist in the target. F1 scores for these classes will be cast to zeros.\n",
      "WARNING:root:No positive instances have been seen in target. Recall is converted from NaN to 0s.\n"
     ]
    },
    {
     "name": "stdout",
     "output_type": "stream",
     "text": [
      "Epoch 131, Validation Loss: 0.19392073379264627\n",
      "regression_metrics {'MAE': 0.37534687, 'RMSE': 0.43930525, 'MAPE': 32.210762, 'SMAPE': 40.2997}\n",
      "Classification Metrics: {'Accuracy': tensor(0.4887), 'F1': tensor(0.), 'Precision': tensor(0.), 'Recall': tensor(0.)}\n",
      "Epoch 132, Train Loss: 0.07331102552393766\n"
     ]
    },
    {
     "name": "stderr",
     "output_type": "stream",
     "text": [
      "WARNING:root:Warning: Some classes do not exist in the target. F1 scores for these classes will be cast to zeros.\n",
      "WARNING:root:No positive instances have been seen in target. Recall is converted from NaN to 0s.\n"
     ]
    },
    {
     "name": "stdout",
     "output_type": "stream",
     "text": [
      "Epoch 132, Validation Loss: 0.19392185522334987\n",
      "regression_metrics {'MAE': 0.37534836, 'RMSE': 0.43930653, 'MAPE': 32.21091, 'SMAPE': 40.299908}\n",
      "Classification Metrics: {'Accuracy': tensor(0.4887), 'F1': tensor(0.), 'Precision': tensor(0.), 'Recall': tensor(0.)}\n",
      "Epoch 133, Train Loss: 0.07331095463225736\n"
     ]
    },
    {
     "name": "stderr",
     "output_type": "stream",
     "text": [
      "WARNING:root:Warning: Some classes do not exist in the target. F1 scores for these classes will be cast to zeros.\n",
      "WARNING:root:No positive instances have been seen in target. Recall is converted from NaN to 0s.\n"
     ]
    },
    {
     "name": "stdout",
     "output_type": "stream",
     "text": [
      "Epoch 133, Validation Loss: 0.19392239584847062\n",
      "regression_metrics {'MAE': 0.37534901, 'RMSE': 0.43930715, 'MAPE': 32.210983, 'SMAPE': 40.30001}\n",
      "Classification Metrics: {'Accuracy': tensor(0.4887), 'F1': tensor(0.), 'Precision': tensor(0.), 'Recall': tensor(0.)}\n",
      "Epoch 134, Train Loss: 0.0733110073787495\n"
     ]
    },
    {
     "name": "stderr",
     "output_type": "stream",
     "text": [
      "WARNING:root:Warning: Some classes do not exist in the target. F1 scores for these classes will be cast to zeros.\n",
      "WARNING:root:No positive instances have been seen in target. Recall is converted from NaN to 0s.\n"
     ]
    },
    {
     "name": "stdout",
     "output_type": "stream",
     "text": [
      "Epoch 134, Validation Loss: 0.19392311234851597\n",
      "regression_metrics {'MAE': 0.37535, 'RMSE': 0.43930793, 'MAPE': 32.211075, 'SMAPE': 40.300137}\n",
      "Classification Metrics: {'Accuracy': tensor(0.4887), 'F1': tensor(0.), 'Precision': tensor(0.), 'Recall': tensor(0.)}\n",
      "Epoch 135, Train Loss: 0.07331099361406289\n"
     ]
    },
    {
     "name": "stderr",
     "output_type": "stream",
     "text": [
      "WARNING:root:Warning: Some classes do not exist in the target. F1 scores for these classes will be cast to zeros.\n",
      "WARNING:root:No positive instances have been seen in target. Recall is converted from NaN to 0s.\n"
     ]
    },
    {
     "name": "stdout",
     "output_type": "stream",
     "text": [
      "Epoch 135, Validation Loss: 0.193923561719292\n",
      "regression_metrics {'MAE': 0.3753506, 'RMSE': 0.43930846, 'MAPE': 32.211136, 'SMAPE': 40.300224}\n",
      "Classification Metrics: {'Accuracy': tensor(0.4887), 'F1': tensor(0.), 'Precision': tensor(0.), 'Recall': tensor(0.)}\n",
      "Epoch 136, Train Loss: 0.0733109620558344\n"
     ]
    },
    {
     "name": "stderr",
     "output_type": "stream",
     "text": [
      "WARNING:root:Warning: Some classes do not exist in the target. F1 scores for these classes will be cast to zeros.\n",
      "WARNING:root:No positive instances have been seen in target. Recall is converted from NaN to 0s.\n"
     ]
    },
    {
     "name": "stdout",
     "output_type": "stream",
     "text": [
      "Epoch 136, Validation Loss: 0.1939237410027045\n",
      "regression_metrics {'MAE': 0.37535083, 'RMSE': 0.43930864, 'MAPE': 32.21116, 'SMAPE': 40.300255}\n",
      "Classification Metrics: {'Accuracy': tensor(0.4887), 'F1': tensor(0.), 'Precision': tensor(0.), 'Recall': tensor(0.)}\n",
      "Epoch 137, Train Loss: 0.07331097903086854\n"
     ]
    },
    {
     "name": "stderr",
     "output_type": "stream",
     "text": [
      "WARNING:root:Warning: Some classes do not exist in the target. F1 scores for these classes will be cast to zeros.\n",
      "WARNING:root:No positive instances have been seen in target. Recall is converted from NaN to 0s.\n"
     ]
    },
    {
     "name": "stdout",
     "output_type": "stream",
     "text": [
      "Epoch 137, Validation Loss: 0.19392387512460596\n",
      "regression_metrics {'MAE': 0.375351, 'RMSE': 0.43930882, 'MAPE': 32.211178, 'SMAPE': 40.30028}\n",
      "Classification Metrics: {'Accuracy': tensor(0.4887), 'F1': tensor(0.), 'Precision': tensor(0.), 'Recall': tensor(0.)}\n",
      "Early stopping triggered at epoch 137\n",
      "Training complete, saving best and final model.\n",
      "Best model saved to WandB.\n",
      "Final model saved to WandB.\n"
     ]
    },
    {
     "name": "stderr",
     "output_type": "stream",
     "text": [
      "WARNING:root:Warning: Some classes do not exist in the target. F1 scores for these classes will be cast to zeros.\n",
      "WARNING:root:No positive instances have been seen in target. Recall is converted from NaN to 0s.\n"
     ]
    },
    {
     "name": "stdout",
     "output_type": "stream",
     "text": [
      "Test Loss: 0.49862462282180786\n",
      "Regression Metrics: {'MAE': 0.6908116, 'RMSE': 0.70613354, 'MAPE': 49.663025, 'SMAPE': 66.43101}\n",
      "Classification Metrics: {'Accuracy': tensor(0.4730), 'F1': tensor(0.), 'Precision': tensor(0.), 'Recall': tensor(0.)}\n"
     ]
    },
    {
     "data": {
      "text/plain": "<IPython.core.display.HTML object>",
      "text/html": ""
     },
     "metadata": {},
     "output_type": "display_data"
    },
    {
     "data": {
      "text/plain": "<IPython.core.display.HTML object>",
      "text/html": "<br>    <style><br>        .wandb-row {<br>            display: flex;<br>            flex-direction: row;<br>            flex-wrap: wrap;<br>            justify-content: flex-start;<br>            width: 100%;<br>        }<br>        .wandb-col {<br>            display: flex;<br>            flex-direction: column;<br>            flex-basis: 100%;<br>            flex: 1;<br>            padding: 10px;<br>        }<br>    </style><br><div class=\"wandb-row\"><div class=\"wandb-col\"><h3>Run history:</h3><br/><table class=\"wandb\"><tr><td>Accuracy</td><td>▂▂▂█▆▂▇▅▃▂█▅▂▄▂▄█▂▄▂▃▂▄▆▃▃▁▁▁▂▆▅▁▂▂▂▂▂▂▂</td></tr><tr><td>F1</td><td>▂▁▁▁▄▁▁▆█▇▂▅▁▂█▄▁▄▂▁▁▂▂▁▁▁▁▁▁▂▃▆▄▂▁▁▁▁▁▁</td></tr><tr><td>MAE</td><td>▅▅▆▆▇▃▂▅▄▃▄▄▄▂▄▄▃▃▅▃▄▅▁▁▅▄▅▄▄▅▅█████████</td></tr><tr><td>MAPE</td><td>▄▄▆▅▆▆▆▄▂▂▄▄▃▆▁▄▂▄▃▅▃▄▃▅▅▅▁▄▁▄▄▂▅▆▆█████</td></tr><tr><td>Precision</td><td>▁▁▁▁▁▅▆▆▄▃▂▄▁█▅▂▁▂▁▄▂▁▁▁▁▁▁▁▅▂▁▁▁▁▁▁▁▁▁▁</td></tr><tr><td>RMSE</td><td>▂▂▂▂▂▁▂▂▂▂▂▂▂▂▂▂▂▂▂▂▂▂▁▂▂▂▂▂▂▂▃▃▃▃▃▃▃▃▃█</td></tr><tr><td>Recall</td><td>▇▁▇▁▇▇▇▅▇▇▆▇▇▆▇▇▁▇▇▇▇▇▁▇▇▆▆██▆▇██▆▇▁▁▁▁▁</td></tr><tr><td>SMAPE</td><td>▂▂▂▃▂▁▁▂▂▂▂▁▂▃▁▂▃▁▁▂▁▂▂▂▂▂▂▂▂▂▃▃▃▃▃▃▃▃▃█</td></tr><tr><td>test_loss</td><td>▁</td></tr><tr><td>train_loss</td><td>▁▂▂▃▃▃▂▂▃▂▂▂▂▂▃▂▃▅▄▃▆▇▅▂▄▅▅▆▄▃▂▆▇▇██████</td></tr><tr><td>val_loss</td><td>▅▆▄▃▃▄▃▂▅▃▅▃▄▄▂▄▃▃▄▅▅▄▅▅▅▁▅▅▅▄▄▄▄▅▆█████</td></tr></table><br/></div><div class=\"wandb-col\"><h3>Run summary:</h3><br/><table class=\"wandb\"><tr><td>Accuracy</td><td>0.47299</td></tr><tr><td>F1</td><td>0</td></tr><tr><td>MAE</td><td>0.69081</td></tr><tr><td>MAPE</td><td>49.66302</td></tr><tr><td>Precision</td><td>0</td></tr><tr><td>RMSE</td><td>0.70613</td></tr><tr><td>Recall</td><td>0</td></tr><tr><td>SMAPE</td><td>66.43101</td></tr><tr><td>test_loss</td><td>0.49862</td></tr><tr><td>train_loss</td><td>0.07331</td></tr><tr><td>val_loss</td><td>0.19392</td></tr></table><br/></div></div>"
     },
     "metadata": {},
     "output_type": "display_data"
    },
    {
     "data": {
      "text/plain": "<IPython.core.display.HTML object>",
      "text/html": " View run <strong style=\"color:#cdcd00\">rnn_encoder</strong> at: <a href='https://wandb.ai/aafvbd/stock_time_series/runs/7m69k9ml' target=\"_blank\">https://wandb.ai/aafvbd/stock_time_series/runs/7m69k9ml</a><br> View project at: <a href='https://wandb.ai/aafvbd/stock_time_series' target=\"_blank\">https://wandb.ai/aafvbd/stock_time_series</a><br>Synced 5 W&B file(s), 0 media file(s), 4 artifact file(s) and 0 other file(s)"
     },
     "metadata": {},
     "output_type": "display_data"
    },
    {
     "data": {
      "text/plain": "<IPython.core.display.HTML object>",
      "text/html": "Find logs at: <code>../wandb\\wandb\\run-20250310_014932-7m69k9ml\\logs</code>"
     },
     "metadata": {},
     "output_type": "display_data"
    }
   ],
   "source": [
    "if __name__ == \"__main__\":\n",
    "    seed = 42\n",
    "    random.seed(42)\n",
    "    np.random.seed(seed)\n",
    "    torch.manual_seed(seed)\n",
    "    torch.cuda.manual_seed(seed)\n",
    "    torch.cuda.manual_seed_all(seed)\n",
    "    # torch.backends.cudnn.deterministic = True\n",
    "    # torch.backends.cudnn.benchmark = False\n",
    "    \n",
    "    config = get_config()\n",
    "    main(config) "
   ],
   "metadata": {
    "collapsed": false,
    "ExecuteTime": {
     "end_time": "2025-03-10T05:53:38.126474600Z",
     "start_time": "2025-03-10T05:49:32.663305500Z"
    }
   },
   "id": "2bda7478aa551d7c"
  },
  {
   "cell_type": "code",
   "execution_count": 247,
   "outputs": [],
   "source": [
    " "
   ],
   "metadata": {
    "collapsed": false,
    "ExecuteTime": {
     "end_time": "2025-03-10T05:53:38.133184600Z",
     "start_time": "2025-03-10T05:53:38.126474600Z"
    }
   },
   "id": "a91aad98faa683eb"
  },
  {
   "cell_type": "code",
   "execution_count": null,
   "outputs": [],
   "source": [],
   "metadata": {
    "collapsed": false
   },
   "id": "29cad13e51ea7e52"
  }
 ],
 "metadata": {
  "kernelspec": {
   "display_name": "Python 3",
   "language": "python",
   "name": "python3"
  },
  "language_info": {
   "codemirror_mode": {
    "name": "ipython",
    "version": 2
   },
   "file_extension": ".py",
   "mimetype": "text/x-python",
   "name": "python",
   "nbconvert_exporter": "python",
   "pygments_lexer": "ipython2",
   "version": "2.7.6"
  }
 },
 "nbformat": 4,
 "nbformat_minor": 5
}
