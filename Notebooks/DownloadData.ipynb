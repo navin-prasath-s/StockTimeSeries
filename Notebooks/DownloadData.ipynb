{
 "cells": [
  {
   "cell_type": "code",
   "execution_count": null,
   "id": "initial_id",
   "metadata": {
    "collapsed": true
   },
   "outputs": [],
   "source": [
    "from pathlib import Path\n",
    "import os\n",
    "from io import StringIO\n",
    "\n",
    "\n",
    "import requests\n",
    "from dotenv import load_dotenv\n",
    "\n",
    "import yfinance as yf\n",
    "\n",
    "import pandas as pd"
   ]
  },
  {
   "cell_type": "code",
   "execution_count": null,
   "outputs": [],
   "source": [
    "# t = yf.Ticker(\"JPM\")\n",
    "# t.info"
   ],
   "metadata": {
    "collapsed": false
   },
   "id": "213829c8b0054d56"
  },
  {
   "cell_type": "code",
   "execution_count": null,
   "outputs": [],
   "source": [
    "# a = yf.Ticker(\"^DJI\").history(period='1d', interval='1m')\n",
    "# a"
   ],
   "metadata": {
    "collapsed": false
   },
   "id": "e49ecdd420a110d9"
  },
  {
   "cell_type": "code",
   "execution_count": null,
   "outputs": [],
   "source": [
    "# a = yf.download(tickers = \"JPM\",\n",
    "#             interval = \"1m\",\n",
    "#             start = \"2024-11-01\",\n",
    "#             end = \"2025-02-28\",\n",
    "#             )"
   ],
   "metadata": {
    "collapsed": false
   },
   "id": "de4c2bf36ddf5982"
  },
  {
   "cell_type": "code",
   "execution_count": null,
   "outputs": [],
   "source": [
    "env_path = Path.cwd().parent / \"env\" / \".env\"\n",
    "load_dotenv(dotenv_path=env_path)\n",
    "alpha_vantage_api_key = os.environ.get(\"ALPHA_VANTAGE_API_KEY\")"
   ],
   "metadata": {
    "collapsed": false
   },
   "id": "d973a5bbd9f5d164"
  },
  {
   "cell_type": "code",
   "execution_count": null,
   "outputs": [],
   "source": [
    "ticker = \"JPM\"\n",
    "interval = \"1min\"\n",
    "month = \"2024-10\""
   ],
   "metadata": {
    "collapsed": false
   },
   "id": "d555a79958885834"
  },
  {
   "cell_type": "code",
   "execution_count": null,
   "outputs": [],
   "source": [
    "url = f'https://www.alphavantage.co/query?function=TIME_SERIES_INTRADAY&symbol={ticker}&interval={interval}&adjusted=false&extended_hours=false&month={month}&outputsize=full&datatype=csv&apikey={alpha_vantage_api_key}'\n"
   ],
   "metadata": {
    "collapsed": false
   },
   "id": "baa8bcaea6bf3e83"
  },
  {
   "cell_type": "code",
   "execution_count": null,
   "outputs": [],
   "source": [
    "r = requests.get(url)\n",
    "r"
   ],
   "metadata": {
    "collapsed": false
   },
   "id": "de2a96cf14316b64"
  },
  {
   "cell_type": "code",
   "execution_count": null,
   "outputs": [],
   "source": [
    "csv_data = StringIO(r.text)\n",
    "df = pd.read_csv(csv_data)"
   ],
   "metadata": {
    "collapsed": false
   },
   "id": "b49aa98141547dd1"
  },
  {
   "cell_type": "code",
   "execution_count": null,
   "outputs": [],
   "source": [
    "df.to_csv(f'../data/downloads/JPM-{month}.csv', index=False)"
   ],
   "metadata": {
    "collapsed": false
   },
   "id": "bed8ead308b93467"
  },
  {
   "cell_type": "code",
   "execution_count": null,
   "outputs": [],
   "source": [
    "df.shape"
   ],
   "metadata": {
    "collapsed": false
   },
   "id": "f1e390e99ce7bd7c"
  },
  {
   "cell_type": "code",
   "execution_count": 101,
   "outputs": [],
   "source": [
    "path = f\"../data/JPM-2024-\""
   ],
   "metadata": {
    "collapsed": false,
    "ExecuteTime": {
     "end_time": "2025-03-02T14:46:10.629152400Z",
     "start_time": "2025-03-02T14:46:10.621740700Z"
    }
   },
   "id": "ea14215016e9f534"
  },
  {
   "cell_type": "code",
   "execution_count": 102,
   "outputs": [],
   "source": [
    "df1 = pd.read_csv(f\"{path}10.csv\")\n",
    "df2 = pd.read_csv(f\"{path}11.csv\")\n",
    "df3 = pd.read_csv(f\"{path}12.csv\")"
   ],
   "metadata": {
    "collapsed": false,
    "ExecuteTime": {
     "end_time": "2025-03-02T14:46:22.713394600Z",
     "start_time": "2025-03-02T14:46:22.690034400Z"
    }
   },
   "id": "a8ab199543f7f3f0"
  },
  {
   "cell_type": "code",
   "execution_count": 103,
   "outputs": [],
   "source": [
    "combined_df = pd.concat([df1, df2, df3], ignore_index=True)"
   ],
   "metadata": {
    "collapsed": false,
    "ExecuteTime": {
     "end_time": "2025-03-02T14:47:01.305225700Z",
     "start_time": "2025-03-02T14:47:01.297916700Z"
    }
   },
   "id": "4e1cf4689afacb9b"
  },
  {
   "cell_type": "code",
   "execution_count": 106,
   "outputs": [],
   "source": [
    "combined_df.to_csv(f\"../data/train.csv\", index=False)"
   ],
   "metadata": {
    "collapsed": false,
    "ExecuteTime": {
     "end_time": "2025-03-02T14:49:39.082937800Z",
     "start_time": "2025-03-02T14:49:39.024411200Z"
    }
   },
   "id": "5d38f7487018a576"
  },
  {
   "cell_type": "code",
   "execution_count": null,
   "outputs": [],
   "source": [],
   "metadata": {
    "collapsed": false
   },
   "id": "6990e2e739e3b61d"
  }
 ],
 "metadata": {
  "kernelspec": {
   "display_name": "Python 3",
   "language": "python",
   "name": "python3"
  },
  "language_info": {
   "codemirror_mode": {
    "name": "ipython",
    "version": 2
   },
   "file_extension": ".py",
   "mimetype": "text/x-python",
   "name": "python",
   "nbconvert_exporter": "python",
   "pygments_lexer": "ipython2",
   "version": "2.7.6"
  }
 },
 "nbformat": 4,
 "nbformat_minor": 5
}
