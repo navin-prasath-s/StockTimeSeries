{
 "cells": [
  {
   "cell_type": "code",
   "execution_count": 128,
   "id": "initial_id",
   "metadata": {
    "collapsed": true,
    "ExecuteTime": {
     "end_time": "2025-03-02T18:05:28.286306200Z",
     "start_time": "2025-03-02T18:05:28.283300400Z"
    }
   },
   "outputs": [],
   "source": [
    "from pathlib import Path\n",
    "import os\n",
    "from io import StringIO\n",
    "\n",
    "\n",
    "import requests\n",
    "from dotenv import load_dotenv\n",
    "\n",
    "import yfinance as yf\n",
    "\n",
    "import pandas as pd"
   ]
  },
  {
   "cell_type": "code",
   "execution_count": 129,
   "outputs": [],
   "source": [
    "# t = yf.Ticker(\"JPM\")\n",
    "# t.info"
   ],
   "metadata": {
    "collapsed": false,
    "ExecuteTime": {
     "end_time": "2025-03-02T18:05:28.437895700Z",
     "start_time": "2025-03-02T18:05:28.433147300Z"
    }
   },
   "id": "213829c8b0054d56"
  },
  {
   "cell_type": "code",
   "execution_count": 130,
   "outputs": [],
   "source": [
    "# a = yf.Ticker(\"^DJI\").history(period='1d', interval='1m')\n",
    "# a"
   ],
   "metadata": {
    "collapsed": false,
    "ExecuteTime": {
     "end_time": "2025-03-02T18:05:28.577953200Z",
     "start_time": "2025-03-02T18:05:28.573066400Z"
    }
   },
   "id": "e49ecdd420a110d9"
  },
  {
   "cell_type": "code",
   "execution_count": 131,
   "outputs": [],
   "source": [
    "# a = yf.download(tickers = \"JPM\",\n",
    "#             interval = \"1m\",\n",
    "#             start = \"2024-11-01\",\n",
    "#             end = \"2025-02-28\",\n",
    "#             )"
   ],
   "metadata": {
    "collapsed": false,
    "ExecuteTime": {
     "end_time": "2025-03-02T18:05:28.743218100Z",
     "start_time": "2025-03-02T18:05:28.739707600Z"
    }
   },
   "id": "de4c2bf36ddf5982"
  },
  {
   "cell_type": "code",
   "execution_count": 132,
   "outputs": [],
   "source": [
    "env_path = Path.cwd().parent / \"env\" / \".env\"\n",
    "load_dotenv(dotenv_path=env_path)\n",
    "alpha_vantage_api_key = os.environ.get(\"ALPHA_VANTAGE_API_KEY\")"
   ],
   "metadata": {
    "collapsed": false,
    "ExecuteTime": {
     "end_time": "2025-03-02T18:05:28.969334800Z",
     "start_time": "2025-03-02T18:05:28.965649Z"
    }
   },
   "id": "d973a5bbd9f5d164"
  },
  {
   "cell_type": "code",
   "execution_count": 164,
   "outputs": [],
   "source": [
    "ticker = \"JPM\"\n",
    "interval = \"1min\"\n",
    "month = \"2025-02\"\n",
    "output_path = Path(f\"../data/downloads/JPM-{month}.csv\")"
   ],
   "metadata": {
    "collapsed": false,
    "ExecuteTime": {
     "end_time": "2025-03-02T18:19:40.081416400Z",
     "start_time": "2025-03-02T18:19:40.076067Z"
    }
   },
   "id": "d555a79958885834"
  },
  {
   "cell_type": "code",
   "execution_count": 165,
   "outputs": [],
   "source": [
    "url = f'https://www.alphavantage.co/query?function=TIME_SERIES_INTRADAY&symbol={ticker}&interval={interval}&adjusted=false&extended_hours=false&month={month}&outputsize=full&datatype=csv&apikey={alpha_vantage_api_key}'\n"
   ],
   "metadata": {
    "collapsed": false,
    "ExecuteTime": {
     "end_time": "2025-03-02T18:19:41.145293200Z",
     "start_time": "2025-03-02T18:19:41.139378300Z"
    }
   },
   "id": "baa8bcaea6bf3e83"
  },
  {
   "cell_type": "code",
   "execution_count": 166,
   "outputs": [
    {
     "data": {
      "text/plain": "<Response [200]>"
     },
     "execution_count": 166,
     "metadata": {},
     "output_type": "execute_result"
    }
   ],
   "source": [
    "r = requests.get(url)\n",
    "r"
   ],
   "metadata": {
    "collapsed": false,
    "ExecuteTime": {
     "end_time": "2025-03-02T18:19:42.949821300Z",
     "start_time": "2025-03-02T18:19:42.543084900Z"
    }
   },
   "id": "de2a96cf14316b64"
  },
  {
   "cell_type": "code",
   "execution_count": 167,
   "outputs": [],
   "source": [
    "df = pd.read_csv(url)"
   ],
   "metadata": {
    "collapsed": false,
    "ExecuteTime": {
     "end_time": "2025-03-02T18:19:44.085905900Z",
     "start_time": "2025-03-02T18:19:43.695733700Z"
    }
   },
   "id": "b49aa98141547dd1"
  },
  {
   "cell_type": "code",
   "execution_count": 168,
   "outputs": [],
   "source": [
    "df = df.iloc[::-1]"
   ],
   "metadata": {
    "collapsed": false,
    "ExecuteTime": {
     "end_time": "2025-03-02T18:19:44.502614Z",
     "start_time": "2025-03-02T18:19:44.498087500Z"
    }
   },
   "id": "7d4c680b4b7f34d6"
  },
  {
   "cell_type": "code",
   "execution_count": 169,
   "outputs": [],
   "source": [
    "df.to_csv(output_path, index=False)"
   ],
   "metadata": {
    "collapsed": false,
    "ExecuteTime": {
     "end_time": "2025-03-02T18:19:45.594574700Z",
     "start_time": "2025-03-02T18:19:45.570695900Z"
    }
   },
   "id": "bed8ead308b93467"
  },
  {
   "cell_type": "code",
   "execution_count": null,
   "outputs": [],
   "source": [],
   "metadata": {
    "collapsed": false
   },
   "id": "64a7423c881c85da"
  },
  {
   "cell_type": "code",
   "execution_count": 172,
   "outputs": [],
   "source": [
    "path = f\"../data/downloads/JPM-2024-\""
   ],
   "metadata": {
    "collapsed": false,
    "ExecuteTime": {
     "end_time": "2025-03-02T18:20:24.738375200Z",
     "start_time": "2025-03-02T18:20:24.733005300Z"
    }
   },
   "id": "ea14215016e9f534"
  },
  {
   "cell_type": "code",
   "execution_count": 173,
   "outputs": [],
   "source": [
    "df1 = pd.read_csv(f\"{path}10.csv\")\n",
    "df2 = pd.read_csv(f\"{path}11.csv\")\n",
    "df3 = pd.read_csv(f\"{path}12.csv\")"
   ],
   "metadata": {
    "collapsed": false,
    "ExecuteTime": {
     "end_time": "2025-03-02T18:20:27.110086700Z",
     "start_time": "2025-03-02T18:20:27.087400600Z"
    }
   },
   "id": "a8ab199543f7f3f0"
  },
  {
   "cell_type": "code",
   "execution_count": 176,
   "outputs": [],
   "source": [
    "combined_df = pd.concat([df1, df2, df3], ignore_index=True)"
   ],
   "metadata": {
    "collapsed": false,
    "ExecuteTime": {
     "end_time": "2025-03-02T18:20:47.341742300Z",
     "start_time": "2025-03-02T18:20:47.338371500Z"
    }
   },
   "id": "4e1cf4689afacb9b"
  },
  {
   "cell_type": "code",
   "execution_count": 178,
   "outputs": [],
   "source": [
    "combined_df.to_csv(f\"../data/train.csv\", index=False)"
   ],
   "metadata": {
    "collapsed": false,
    "ExecuteTime": {
     "end_time": "2025-03-02T18:21:35.805733400Z",
     "start_time": "2025-03-02T18:21:35.743496800Z"
    }
   },
   "id": "5d38f7487018a576"
  },
  {
   "cell_type": "code",
   "execution_count": null,
   "outputs": [],
   "source": [],
   "metadata": {
    "collapsed": false
   },
   "id": "c946b99ffa15cc3d"
  },
  {
   "cell_type": "code",
   "execution_count": null,
   "outputs": [],
   "source": [],
   "metadata": {
    "collapsed": false
   },
   "id": "61052fb7f33a6161"
  },
  {
   "cell_type": "code",
   "execution_count": null,
   "outputs": [],
   "source": [],
   "metadata": {
    "collapsed": false
   },
   "id": "24f7e14c70647f00"
  }
 ],
 "metadata": {
  "kernelspec": {
   "display_name": "Python 3",
   "language": "python",
   "name": "python3"
  },
  "language_info": {
   "codemirror_mode": {
    "name": "ipython",
    "version": 2
   },
   "file_extension": ".py",
   "mimetype": "text/x-python",
   "name": "python",
   "nbconvert_exporter": "python",
   "pygments_lexer": "ipython2",
   "version": "2.7.6"
  }
 },
 "nbformat": 4,
 "nbformat_minor": 5
}
